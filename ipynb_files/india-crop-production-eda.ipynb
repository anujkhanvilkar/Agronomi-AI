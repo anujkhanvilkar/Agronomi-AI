{
 "cells": [
  {
   "cell_type": "code",
   "execution_count": 2,
   "id": "e886e87c",
   "metadata": {
    "_cell_guid": "b1076dfc-b9ad-4769-8c92-a6c4dae69d19",
    "_uuid": "8f2839f25d086af736a60e9eeb907d3b93b6e0e5",
    "execution": {
     "iopub.execute_input": "2023-02-10T11:13:24.491840Z",
     "iopub.status.busy": "2023-02-10T11:13:24.490664Z",
     "iopub.status.idle": "2023-02-10T11:13:24.514328Z",
     "shell.execute_reply": "2023-02-10T11:13:24.513223Z"
    },
    "papermill": {
     "duration": 0.042732,
     "end_time": "2023-02-10T11:13:24.516905",
     "exception": false,
     "start_time": "2023-02-10T11:13:24.474173",
     "status": "completed"
    },
    "tags": []
   },
   "outputs": [],
   "source": [
    "# This Python 3 environment comes with many helpful analytics libraries installed\n",
    "# It is defined by the kaggle/python Docker image: https://github.com/kaggle/docker-python\n",
    "# For example, here's several helpful packages to load\n",
    "\n",
    "import numpy as np # linear algebra\n",
    "import pandas as pd # data processing, CSV file I/O (e.g. pd.read_csv)\n",
    "\n",
    "# Input data files are available in the read-only \"../input/\" directory\n",
    "# For example, running this (by clicking run or pressing Shift+Enter) will list all files under the input directory\n",
    "\n",
    "import os\n",
    "for dirname, _, filenames in os.walk('/kaggle/input'):\n",
    "    for filename in filenames:\n",
    "        print(os.path.join(dirname, filename))\n",
    "\n",
    "# You can write up to 20GB to the current directory (/kaggle/working/) that gets preserved as output when you create a version using \"Save & Run All\" \n",
    "# You can also write temporary files to /kaggle/temp/, but they won't be saved outside of the current session"
   ]
  },
  {
   "cell_type": "markdown",
   "id": "40fbcd02",
   "metadata": {
    "papermill": {
     "duration": 0.013157,
     "end_time": "2023-02-10T11:13:24.545141",
     "exception": false,
     "start_time": "2023-02-10T11:13:24.531984",
     "status": "completed"
    },
    "tags": []
   },
   "source": [
    "# About \n",
    "* State_Name - Name of the state in India. \n",
    "* District_Name - Name of the district in the state. \n",
    "* Crop_Year - Year of the crop production. \n",
    "* Season - Season of the crop production. \n",
    "* Area - Area of land used for crop production. \n",
    "* Production - Amount of crop produced. "
   ]
  },
  {
   "cell_type": "markdown",
   "id": "852b822a",
   "metadata": {
    "papermill": {
     "duration": 0.013067,
     "end_time": "2023-02-10T11:13:24.573378",
     "exception": false,
     "start_time": "2023-02-10T11:13:24.560311",
     "status": "completed"
    },
    "tags": []
   },
   "source": [
    "#### Importing Necessary libraries"
   ]
  },
  {
   "cell_type": "code",
   "execution_count": 3,
   "id": "7be215a0",
   "metadata": {
    "execution": {
     "iopub.execute_input": "2023-02-10T11:13:24.602014Z",
     "iopub.status.busy": "2023-02-10T11:13:24.601580Z",
     "iopub.status.idle": "2023-02-10T11:13:25.471874Z",
     "shell.execute_reply": "2023-02-10T11:13:25.470706Z"
    },
    "papermill": {
     "duration": 0.887922,
     "end_time": "2023-02-10T11:13:25.474609",
     "exception": false,
     "start_time": "2023-02-10T11:13:24.586687",
     "status": "completed"
    },
    "tags": []
   },
   "outputs": [],
   "source": [
    "import pandas as pd\n",
    "import numpy as np\n",
    "import seaborn as sns\n",
    "import matplotlib.pyplot as plt\n",
    "sns.set(style=\"darkgrid\")\n",
    "pd.options.display.max_columns=50"
   ]
  },
  {
   "cell_type": "code",
   "execution_count": 8,
   "id": "ec4d2512",
   "metadata": {
    "execution": {
     "iopub.execute_input": "2023-02-10T11:13:25.504344Z",
     "iopub.status.busy": "2023-02-10T11:13:25.503298Z",
     "iopub.status.idle": "2023-02-10T11:13:26.044834Z",
     "shell.execute_reply": "2023-02-10T11:13:26.044111Z"
    },
    "papermill": {
     "duration": 0.558517,
     "end_time": "2023-02-10T11:13:26.046862",
     "exception": false,
     "start_time": "2023-02-10T11:13:25.488345",
     "status": "completed"
    },
    "tags": []
   },
   "outputs": [
    {
     "data": {
      "text/html": [
       "<div>\n",
       "<style scoped>\n",
       "    .dataframe tbody tr th:only-of-type {\n",
       "        vertical-align: middle;\n",
       "    }\n",
       "\n",
       "    .dataframe tbody tr th {\n",
       "        vertical-align: top;\n",
       "    }\n",
       "\n",
       "    .dataframe thead th {\n",
       "        text-align: right;\n",
       "    }\n",
       "</style>\n",
       "<table border=\"1\" class=\"dataframe\">\n",
       "  <thead>\n",
       "    <tr style=\"text-align: right;\">\n",
       "      <th></th>\n",
       "      <th>index</th>\n",
       "      <th>State_Name</th>\n",
       "      <th>District_Name</th>\n",
       "      <th>Crop_Year</th>\n",
       "      <th>Season</th>\n",
       "      <th>Crop</th>\n",
       "      <th>Area</th>\n",
       "      <th>Production</th>\n",
       "    </tr>\n",
       "  </thead>\n",
       "  <tbody>\n",
       "    <tr>\n",
       "      <th>32339</th>\n",
       "      <td>32339</td>\n",
       "      <td>Bihar</td>\n",
       "      <td>GOPALGANJ</td>\n",
       "      <td>2009</td>\n",
       "      <td>Kharif</td>\n",
       "      <td>Mesta</td>\n",
       "      <td>12.0</td>\n",
       "      <td>86.0</td>\n",
       "    </tr>\n",
       "    <tr>\n",
       "      <th>203809</th>\n",
       "      <td>203809</td>\n",
       "      <td>Uttar Pradesh</td>\n",
       "      <td>BANDA</td>\n",
       "      <td>2011</td>\n",
       "      <td>Rabi</td>\n",
       "      <td>Garlic</td>\n",
       "      <td>3.0</td>\n",
       "      <td>16.0</td>\n",
       "    </tr>\n",
       "    <tr>\n",
       "      <th>123561</th>\n",
       "      <td>123561</td>\n",
       "      <td>Madhya Pradesh</td>\n",
       "      <td>TIKAMGARH</td>\n",
       "      <td>2004</td>\n",
       "      <td>Rabi</td>\n",
       "      <td>Urad</td>\n",
       "      <td>17.0</td>\n",
       "      <td>5.0</td>\n",
       "    </tr>\n",
       "    <tr>\n",
       "      <th>194626</th>\n",
       "      <td>194626</td>\n",
       "      <td>Telangana</td>\n",
       "      <td>NALGONDA</td>\n",
       "      <td>2003</td>\n",
       "      <td>Rabi</td>\n",
       "      <td>Groundnut</td>\n",
       "      <td>16060.0</td>\n",
       "      <td>16269.0</td>\n",
       "    </tr>\n",
       "    <tr>\n",
       "      <th>129909</th>\n",
       "      <td>129909</td>\n",
       "      <td>Maharashtra</td>\n",
       "      <td>JALGAON</td>\n",
       "      <td>2006</td>\n",
       "      <td>Kharif</td>\n",
       "      <td>Urad</td>\n",
       "      <td>56500.0</td>\n",
       "      <td>29900.0</td>\n",
       "    </tr>\n",
       "  </tbody>\n",
       "</table>\n",
       "</div>"
      ],
      "text/plain": [
       "         index      State_Name District_Name  Crop_Year       Season  \\\n",
       "32339    32339           Bihar     GOPALGANJ       2009  Kharif        \n",
       "203809  203809   Uttar Pradesh         BANDA       2011  Rabi          \n",
       "123561  123561  Madhya Pradesh     TIKAMGARH       2004  Rabi          \n",
       "194626  194626      Telangana       NALGONDA       2003  Rabi          \n",
       "129909  129909     Maharashtra       JALGAON       2006  Kharif        \n",
       "\n",
       "             Crop     Area  Production  \n",
       "32339       Mesta     12.0        86.0  \n",
       "203809     Garlic      3.0        16.0  \n",
       "123561       Urad     17.0         5.0  \n",
       "194626  Groundnut  16060.0     16269.0  \n",
       "129909       Urad  56500.0     29900.0  "
      ]
     },
     "execution_count": 8,
     "metadata": {},
     "output_type": "execute_result"
    }
   ],
   "source": [
    "df=pd.read_csv(\"crop_production.csv\")\n",
    "df.sample(5)"
   ]
  },
  {
   "cell_type": "markdown",
   "id": "1adfd629",
   "metadata": {
    "papermill": {
     "duration": 0.013331,
     "end_time": "2023-02-10T11:13:26.073812",
     "exception": false,
     "start_time": "2023-02-10T11:13:26.060481",
     "status": "completed"
    },
    "tags": []
   },
   "source": [
    "## WORKFLOW \n",
    "* Understanding of Data\n",
    "* Data Cleaning\n",
    "* Exploratory Data Analysis\n",
    "* Insights"
   ]
  },
  {
   "cell_type": "markdown",
   "id": "ba752039",
   "metadata": {
    "papermill": {
     "duration": 0.013193,
     "end_time": "2023-02-10T11:13:26.100845",
     "exception": false,
     "start_time": "2023-02-10T11:13:26.087652",
     "status": "completed"
    },
    "tags": []
   },
   "source": [
    "# Understanding of Data"
   ]
  },
  {
   "cell_type": "code",
   "execution_count": 9,
   "id": "e822966b",
   "metadata": {
    "execution": {
     "iopub.execute_input": "2023-02-10T11:13:26.130107Z",
     "iopub.status.busy": "2023-02-10T11:13:26.129489Z",
     "iopub.status.idle": "2023-02-10T11:13:26.134949Z",
     "shell.execute_reply": "2023-02-10T11:13:26.134161Z"
    },
    "papermill": {
     "duration": 0.022518,
     "end_time": "2023-02-10T11:13:26.136922",
     "exception": false,
     "start_time": "2023-02-10T11:13:26.114404",
     "status": "completed"
    },
    "tags": []
   },
   "outputs": [
    {
     "data": {
      "text/plain": [
       "(246091, 8)"
      ]
     },
     "execution_count": 9,
     "metadata": {},
     "output_type": "execute_result"
    }
   ],
   "source": [
    "df.shape"
   ]
  },
  {
   "cell_type": "code",
   "execution_count": 10,
   "id": "4854125a",
   "metadata": {
    "execution": {
     "iopub.execute_input": "2023-02-10T11:13:26.166272Z",
     "iopub.status.busy": "2023-02-10T11:13:26.165833Z",
     "iopub.status.idle": "2023-02-10T11:13:26.172656Z",
     "shell.execute_reply": "2023-02-10T11:13:26.171543Z"
    },
    "papermill": {
     "duration": 0.024389,
     "end_time": "2023-02-10T11:13:26.174876",
     "exception": false,
     "start_time": "2023-02-10T11:13:26.150487",
     "status": "completed"
    },
    "tags": []
   },
   "outputs": [
    {
     "data": {
      "text/plain": [
       "Index(['index', 'State_Name', 'District_Name', 'Crop_Year', 'Season', 'Crop',\n",
       "       'Area', 'Production'],\n",
       "      dtype='object')"
      ]
     },
     "execution_count": 10,
     "metadata": {},
     "output_type": "execute_result"
    }
   ],
   "source": [
    "### Checking column names\n",
    "df.columns"
   ]
  },
  {
   "cell_type": "code",
   "execution_count": 11,
   "id": "3f45d1a8",
   "metadata": {
    "execution": {
     "iopub.execute_input": "2023-02-10T11:13:26.204350Z",
     "iopub.status.busy": "2023-02-10T11:13:26.203971Z",
     "iopub.status.idle": "2023-02-10T11:13:26.270903Z",
     "shell.execute_reply": "2023-02-10T11:13:26.269622Z"
    },
    "papermill": {
     "duration": 0.085237,
     "end_time": "2023-02-10T11:13:26.274321",
     "exception": false,
     "start_time": "2023-02-10T11:13:26.189084",
     "status": "completed"
    },
    "tags": []
   },
   "outputs": [
    {
     "name": "stdout",
     "output_type": "stream",
     "text": [
      "<class 'pandas.core.frame.DataFrame'>\n",
      "RangeIndex: 246091 entries, 0 to 246090\n",
      "Data columns (total 8 columns):\n",
      " #   Column         Non-Null Count   Dtype  \n",
      "---  ------         --------------   -----  \n",
      " 0   index          246091 non-null  int64  \n",
      " 1   State_Name     246091 non-null  object \n",
      " 2   District_Name  246091 non-null  object \n",
      " 3   Crop_Year      246091 non-null  int64  \n",
      " 4   Season         246091 non-null  object \n",
      " 5   Crop           246091 non-null  object \n",
      " 6   Area           246091 non-null  float64\n",
      " 7   Production     242361 non-null  float64\n",
      "dtypes: float64(2), int64(2), object(4)\n",
      "memory usage: 15.0+ MB\n"
     ]
    }
   ],
   "source": [
    "### checking basic info \n",
    "df.info()"
   ]
  },
  {
   "cell_type": "code",
   "execution_count": 13,
   "id": "ba3ae429",
   "metadata": {
    "execution": {
     "iopub.execute_input": "2023-02-10T11:13:26.304802Z",
     "iopub.status.busy": "2023-02-10T11:13:26.304423Z",
     "iopub.status.idle": "2023-02-10T11:13:26.312546Z",
     "shell.execute_reply": "2023-02-10T11:13:26.311525Z"
    },
    "papermill": {
     "duration": 0.025451,
     "end_time": "2023-02-10T11:13:26.314647",
     "exception": false,
     "start_time": "2023-02-10T11:13:26.289196",
     "status": "completed"
    },
    "tags": []
   },
   "outputs": [
    {
     "data": {
      "text/plain": [
       "index              int64\n",
       "State_Name        object\n",
       "District_Name     object\n",
       "Crop_Year          int64\n",
       "Season            object\n",
       "Crop              object\n",
       "Area             float64\n",
       "Production       float64\n",
       "dtype: object"
      ]
     },
     "execution_count": 13,
     "metadata": {},
     "output_type": "execute_result"
    }
   ],
   "source": [
    "df.dtypes"
   ]
  },
  {
   "cell_type": "code",
   "execution_count": 14,
   "id": "e7f24f91",
   "metadata": {
    "execution": {
     "iopub.execute_input": "2023-02-10T11:13:26.343917Z",
     "iopub.status.busy": "2023-02-10T11:13:26.343519Z",
     "iopub.status.idle": "2023-02-10T11:13:26.396411Z",
     "shell.execute_reply": "2023-02-10T11:13:26.395153Z"
    },
    "papermill": {
     "duration": 0.070444,
     "end_time": "2023-02-10T11:13:26.398939",
     "exception": false,
     "start_time": "2023-02-10T11:13:26.328495",
     "status": "completed"
    },
    "tags": []
   },
   "outputs": [
    {
     "data": {
      "text/plain": [
       "Production       3730\n",
       "index               0\n",
       "State_Name          0\n",
       "District_Name       0\n",
       "Crop_Year           0\n",
       "Season              0\n",
       "Crop                0\n",
       "Area                0\n",
       "dtype: int64"
      ]
     },
     "execution_count": 14,
     "metadata": {},
     "output_type": "execute_result"
    }
   ],
   "source": [
    "### checking null values\n",
    "df.isnull().sum().sort_values(ascending=False)"
   ]
  },
  {
   "cell_type": "markdown",
   "id": "df80b8c5",
   "metadata": {
    "papermill": {
     "duration": 0.013767,
     "end_time": "2023-02-10T11:13:26.427208",
     "exception": false,
     "start_time": "2023-02-10T11:13:26.413441",
     "status": "completed"
    },
    "tags": []
   },
   "source": [
    "#### Peroduction has missing values"
   ]
  },
  {
   "cell_type": "code",
   "execution_count": 15,
   "id": "39bc5ec5",
   "metadata": {
    "execution": {
     "iopub.execute_input": "2023-02-10T11:13:26.457295Z",
     "iopub.status.busy": "2023-02-10T11:13:26.456886Z",
     "iopub.status.idle": "2023-02-10T11:13:26.478060Z",
     "shell.execute_reply": "2023-02-10T11:13:26.477193Z"
    },
    "papermill": {
     "duration": 0.039038,
     "end_time": "2023-02-10T11:13:26.480332",
     "exception": false,
     "start_time": "2023-02-10T11:13:26.441294",
     "status": "completed"
    },
    "tags": []
   },
   "outputs": [
    {
     "data": {
      "text/html": [
       "<div>\n",
       "<style scoped>\n",
       "    .dataframe tbody tr th:only-of-type {\n",
       "        vertical-align: middle;\n",
       "    }\n",
       "\n",
       "    .dataframe tbody tr th {\n",
       "        vertical-align: top;\n",
       "    }\n",
       "\n",
       "    .dataframe thead th {\n",
       "        text-align: right;\n",
       "    }\n",
       "</style>\n",
       "<table border=\"1\" class=\"dataframe\">\n",
       "  <thead>\n",
       "    <tr style=\"text-align: right;\">\n",
       "      <th></th>\n",
       "      <th>index</th>\n",
       "      <th>State_Name</th>\n",
       "      <th>District_Name</th>\n",
       "      <th>Crop_Year</th>\n",
       "      <th>Season</th>\n",
       "      <th>Crop</th>\n",
       "      <th>Area</th>\n",
       "      <th>Production</th>\n",
       "    </tr>\n",
       "  </thead>\n",
       "  <tbody>\n",
       "    <tr>\n",
       "      <th>46</th>\n",
       "      <td>46</td>\n",
       "      <td>Andaman and Nicobar Islands</td>\n",
       "      <td>NICOBARS</td>\n",
       "      <td>2005</td>\n",
       "      <td>Whole Year</td>\n",
       "      <td>Arecanut</td>\n",
       "      <td>795.67</td>\n",
       "      <td>NaN</td>\n",
       "    </tr>\n",
       "    <tr>\n",
       "      <th>51</th>\n",
       "      <td>51</td>\n",
       "      <td>Andaman and Nicobar Islands</td>\n",
       "      <td>NICOBARS</td>\n",
       "      <td>2005</td>\n",
       "      <td>Whole Year</td>\n",
       "      <td>Dry chillies</td>\n",
       "      <td>17.00</td>\n",
       "      <td>NaN</td>\n",
       "    </tr>\n",
       "    <tr>\n",
       "      <th>623</th>\n",
       "      <td>623</td>\n",
       "      <td>Andhra Pradesh</td>\n",
       "      <td>ANANTAPUR</td>\n",
       "      <td>2007</td>\n",
       "      <td>Kharif</td>\n",
       "      <td>Moong(Green Gram)</td>\n",
       "      <td>1000.00</td>\n",
       "      <td>NaN</td>\n",
       "    </tr>\n",
       "    <tr>\n",
       "      <th>630</th>\n",
       "      <td>630</td>\n",
       "      <td>Andhra Pradesh</td>\n",
       "      <td>ANANTAPUR</td>\n",
       "      <td>2007</td>\n",
       "      <td>Rabi</td>\n",
       "      <td>Horse-gram</td>\n",
       "      <td>1000.00</td>\n",
       "      <td>NaN</td>\n",
       "    </tr>\n",
       "    <tr>\n",
       "      <th>698</th>\n",
       "      <td>698</td>\n",
       "      <td>Andhra Pradesh</td>\n",
       "      <td>ANANTAPUR</td>\n",
       "      <td>2009</td>\n",
       "      <td>Rabi</td>\n",
       "      <td>Rapeseed &amp;Mustard</td>\n",
       "      <td>8.00</td>\n",
       "      <td>NaN</td>\n",
       "    </tr>\n",
       "    <tr>\n",
       "      <th>...</th>\n",
       "      <td>...</td>\n",
       "      <td>...</td>\n",
       "      <td>...</td>\n",
       "      <td>...</td>\n",
       "      <td>...</td>\n",
       "      <td>...</td>\n",
       "      <td>...</td>\n",
       "      <td>...</td>\n",
       "    </tr>\n",
       "    <tr>\n",
       "      <th>244128</th>\n",
       "      <td>244128</td>\n",
       "      <td>West Bengal</td>\n",
       "      <td>MEDINIPUR WEST</td>\n",
       "      <td>2010</td>\n",
       "      <td>Rabi</td>\n",
       "      <td>Peas &amp; beans (Pulses)</td>\n",
       "      <td>2.00</td>\n",
       "      <td>NaN</td>\n",
       "    </tr>\n",
       "    <tr>\n",
       "      <th>244581</th>\n",
       "      <td>244581</td>\n",
       "      <td>West Bengal</td>\n",
       "      <td>MURSHIDABAD</td>\n",
       "      <td>2006</td>\n",
       "      <td>Kharif</td>\n",
       "      <td>Moong(Green Gram)</td>\n",
       "      <td>200.00</td>\n",
       "      <td>NaN</td>\n",
       "    </tr>\n",
       "    <tr>\n",
       "      <th>245606</th>\n",
       "      <td>245606</td>\n",
       "      <td>West Bengal</td>\n",
       "      <td>PURULIA</td>\n",
       "      <td>2001</td>\n",
       "      <td>Rabi</td>\n",
       "      <td>Rapeseed &amp;Mustard</td>\n",
       "      <td>427.00</td>\n",
       "      <td>NaN</td>\n",
       "    </tr>\n",
       "    <tr>\n",
       "      <th>245644</th>\n",
       "      <td>245644</td>\n",
       "      <td>West Bengal</td>\n",
       "      <td>PURULIA</td>\n",
       "      <td>2002</td>\n",
       "      <td>Rabi</td>\n",
       "      <td>Rapeseed &amp;Mustard</td>\n",
       "      <td>522.00</td>\n",
       "      <td>NaN</td>\n",
       "    </tr>\n",
       "    <tr>\n",
       "      <th>245865</th>\n",
       "      <td>245865</td>\n",
       "      <td>West Bengal</td>\n",
       "      <td>PURULIA</td>\n",
       "      <td>2008</td>\n",
       "      <td>Rabi</td>\n",
       "      <td>Khesari</td>\n",
       "      <td>2.00</td>\n",
       "      <td>NaN</td>\n",
       "    </tr>\n",
       "  </tbody>\n",
       "</table>\n",
       "<p>3730 rows × 8 columns</p>\n",
       "</div>"
      ],
      "text/plain": [
       "         index                   State_Name   District_Name  Crop_Year  \\\n",
       "46          46  Andaman and Nicobar Islands        NICOBARS       2005   \n",
       "51          51  Andaman and Nicobar Islands        NICOBARS       2005   \n",
       "623        623               Andhra Pradesh       ANANTAPUR       2007   \n",
       "630        630               Andhra Pradesh       ANANTAPUR       2007   \n",
       "698        698               Andhra Pradesh       ANANTAPUR       2009   \n",
       "...        ...                          ...             ...        ...   \n",
       "244128  244128                  West Bengal  MEDINIPUR WEST       2010   \n",
       "244581  244581                  West Bengal     MURSHIDABAD       2006   \n",
       "245606  245606                  West Bengal         PURULIA       2001   \n",
       "245644  245644                  West Bengal         PURULIA       2002   \n",
       "245865  245865                  West Bengal         PURULIA       2008   \n",
       "\n",
       "             Season                   Crop     Area  Production  \n",
       "46      Whole Year                Arecanut   795.67         NaN  \n",
       "51      Whole Year            Dry chillies    17.00         NaN  \n",
       "623     Kharif           Moong(Green Gram)  1000.00         NaN  \n",
       "630     Rabi                    Horse-gram  1000.00         NaN  \n",
       "698     Rabi             Rapeseed &Mustard     8.00         NaN  \n",
       "...             ...                    ...      ...         ...  \n",
       "244128  Rabi         Peas & beans (Pulses)     2.00         NaN  \n",
       "244581  Kharif           Moong(Green Gram)   200.00         NaN  \n",
       "245606  Rabi             Rapeseed &Mustard   427.00         NaN  \n",
       "245644  Rabi             Rapeseed &Mustard   522.00         NaN  \n",
       "245865  Rabi                       Khesari     2.00         NaN  \n",
       "\n",
       "[3730 rows x 8 columns]"
      ]
     },
     "execution_count": 15,
     "metadata": {},
     "output_type": "execute_result"
    }
   ],
   "source": [
    "df[df[\"Production\"].isnull()]"
   ]
  },
  {
   "cell_type": "code",
   "execution_count": 16,
   "id": "652de13f",
   "metadata": {
    "execution": {
     "iopub.execute_input": "2023-02-10T11:13:26.511331Z",
     "iopub.status.busy": "2023-02-10T11:13:26.510916Z",
     "iopub.status.idle": "2023-02-10T11:13:26.688747Z",
     "shell.execute_reply": "2023-02-10T11:13:26.687648Z"
    },
    "papermill": {
     "duration": 0.196322,
     "end_time": "2023-02-10T11:13:26.691401",
     "exception": false,
     "start_time": "2023-02-10T11:13:26.495079",
     "status": "completed"
    },
    "tags": []
   },
   "outputs": [
    {
     "data": {
      "text/plain": [
       "0"
      ]
     },
     "execution_count": 16,
     "metadata": {},
     "output_type": "execute_result"
    }
   ],
   "source": [
    "df.duplicated().sum()"
   ]
  },
  {
   "cell_type": "markdown",
   "id": "bd3e45fd",
   "metadata": {
    "papermill": {
     "duration": 0.018682,
     "end_time": "2023-02-10T11:13:26.732024",
     "exception": false,
     "start_time": "2023-02-10T11:13:26.713342",
     "status": "completed"
    },
    "tags": []
   },
   "source": [
    "#### No duplicate values"
   ]
  },
  {
   "cell_type": "markdown",
   "id": "72dd5fd1",
   "metadata": {
    "papermill": {
     "duration": 0.014574,
     "end_time": "2023-02-10T11:13:26.768748",
     "exception": false,
     "start_time": "2023-02-10T11:13:26.754174",
     "status": "completed"
    },
    "tags": []
   },
   "source": [
    "# Data Cleaning"
   ]
  },
  {
   "cell_type": "code",
   "execution_count": 17,
   "id": "6f8d3e14",
   "metadata": {
    "execution": {
     "iopub.execute_input": "2023-02-10T11:13:26.799619Z",
     "iopub.status.busy": "2023-02-10T11:13:26.799255Z",
     "iopub.status.idle": "2023-02-10T11:13:26.825195Z",
     "shell.execute_reply": "2023-02-10T11:13:26.824107Z"
    },
    "papermill": {
     "duration": 0.044028,
     "end_time": "2023-02-10T11:13:26.827434",
     "exception": false,
     "start_time": "2023-02-10T11:13:26.783406",
     "status": "completed"
    },
    "tags": []
   },
   "outputs": [],
   "source": [
    "## Drop Column index \n",
    "df.drop(columns=[\"index\"],inplace=True)"
   ]
  },
  {
   "cell_type": "markdown",
   "id": "64cd205b",
   "metadata": {
    "papermill": {
     "duration": 0.014319,
     "end_time": "2023-02-10T11:13:26.856524",
     "exception": false,
     "start_time": "2023-02-10T11:13:26.842205",
     "status": "completed"
    },
    "tags": []
   },
   "source": [
    "#### Drop column Index as it is not providing any usefull information "
   ]
  },
  {
   "cell_type": "code",
   "execution_count": 18,
   "id": "f99e0314",
   "metadata": {
    "execution": {
     "iopub.execute_input": "2023-02-10T11:13:26.887821Z",
     "iopub.status.busy": "2023-02-10T11:13:26.886756Z",
     "iopub.status.idle": "2023-02-10T11:13:26.937523Z",
     "shell.execute_reply": "2023-02-10T11:13:26.936318Z"
    },
    "papermill": {
     "duration": 0.069433,
     "end_time": "2023-02-10T11:13:26.940453",
     "exception": false,
     "start_time": "2023-02-10T11:13:26.871020",
     "status": "completed"
    },
    "tags": []
   },
   "outputs": [
    {
     "name": "stdout",
     "output_type": "stream",
     "text": [
      "Production ------- 1.5156994770227274 %\n"
     ]
    }
   ],
   "source": [
    "### checking missing values percentage\n",
    "for i in df.columns:\n",
    "    if df[i].isnull().any():\n",
    "        print(i,\"-------\",df[i].isnull().sum()*100/df.shape[0],\"%\")"
   ]
  },
  {
   "cell_type": "code",
   "execution_count": 19,
   "id": "a3ad2b85",
   "metadata": {
    "execution": {
     "iopub.execute_input": "2023-02-10T11:13:26.971799Z",
     "iopub.status.busy": "2023-02-10T11:13:26.971428Z",
     "iopub.status.idle": "2023-02-10T11:13:26.990180Z",
     "shell.execute_reply": "2023-02-10T11:13:26.989009Z"
    },
    "papermill": {
     "duration": 0.036976,
     "end_time": "2023-02-10T11:13:26.992428",
     "exception": false,
     "start_time": "2023-02-10T11:13:26.955452",
     "status": "completed"
    },
    "tags": []
   },
   "outputs": [
    {
     "data": {
      "text/plain": [
       "729.0"
      ]
     },
     "execution_count": 19,
     "metadata": {},
     "output_type": "execute_result"
    }
   ],
   "source": [
    "df[\"Production\"].median()"
   ]
  },
  {
   "cell_type": "code",
   "execution_count": 20,
   "id": "057e2dec",
   "metadata": {
    "execution": {
     "iopub.execute_input": "2023-02-10T11:13:27.023470Z",
     "iopub.status.busy": "2023-02-10T11:13:27.022788Z",
     "iopub.status.idle": "2023-02-10T11:13:27.343366Z",
     "shell.execute_reply": "2023-02-10T11:13:27.342327Z"
    },
    "papermill": {
     "duration": 0.338607,
     "end_time": "2023-02-10T11:13:27.345686",
     "exception": false,
     "start_time": "2023-02-10T11:13:27.007079",
     "status": "completed"
    },
    "tags": []
   },
   "outputs": [
    {
     "data": {
      "text/plain": [
       "<AxesSubplot:xlabel='Production'>"
      ]
     },
     "execution_count": 20,
     "metadata": {},
     "output_type": "execute_result"
    },
    {
     "data": {
      "image/png": "[encoded data removed]",
      "text/plain": [
       "<Figure size 640x480 with 1 Axes>"
      ]
     },
     "metadata": {},
     "output_type": "display_data"
    }
   ],
   "source": [
    "sns.boxplot(x=\"Production\",data=df)"
   ]
  },
  {
   "cell_type": "code",
   "execution_count": 21,
   "id": "272acd89",
   "metadata": {
    "execution": {
     "iopub.execute_input": "2023-02-10T11:13:27.378936Z",
     "iopub.status.busy": "2023-02-10T11:13:27.377778Z",
     "iopub.status.idle": "2023-02-10T11:13:27.392773Z",
     "shell.execute_reply": "2023-02-10T11:13:27.391622Z"
    },
    "papermill": {
     "duration": 0.0345,
     "end_time": "2023-02-10T11:13:27.395632",
     "exception": false,
     "start_time": "2023-02-10T11:13:27.361132",
     "status": "completed"
    },
    "tags": []
   },
   "outputs": [],
   "source": [
    "## Filling the missing values\n",
    "df[\"Production\"].fillna(df[\"Production\"].median(),inplace=True)"
   ]
  },
  {
   "cell_type": "code",
   "execution_count": 22,
   "id": "1ddc3546",
   "metadata": {
    "execution": {
     "iopub.execute_input": "2023-02-10T11:13:27.428233Z",
     "iopub.status.busy": "2023-02-10T11:13:27.427569Z",
     "iopub.status.idle": "2023-02-10T11:13:27.435264Z",
     "shell.execute_reply": "2023-02-10T11:13:27.434354Z"
    },
    "papermill": {
     "duration": 0.026741,
     "end_time": "2023-02-10T11:13:27.437398",
     "exception": false,
     "start_time": "2023-02-10T11:13:27.410657",
     "status": "completed"
    },
    "tags": []
   },
   "outputs": [
    {
     "data": {
      "text/plain": [
       "0"
      ]
     },
     "execution_count": 22,
     "metadata": {},
     "output_type": "execute_result"
    }
   ],
   "source": [
    "df[\"Production\"].isnull().sum()"
   ]
  },
  {
   "cell_type": "markdown",
   "id": "02dd3108",
   "metadata": {
    "papermill": {
     "duration": 0.015,
     "end_time": "2023-02-10T11:13:27.467575",
     "exception": false,
     "start_time": "2023-02-10T11:13:27.452575",
     "status": "completed"
    },
    "tags": []
   },
   "source": [
    "#### Missing values filled with median"
   ]
  },
  {
   "cell_type": "code",
   "execution_count": 23,
   "id": "6add190b",
   "metadata": {
    "execution": {
     "iopub.execute_input": "2023-02-10T11:13:27.501216Z",
     "iopub.status.busy": "2023-02-10T11:13:27.500523Z",
     "iopub.status.idle": "2023-02-10T11:13:27.553421Z",
     "shell.execute_reply": "2023-02-10T11:13:27.552622Z"
    },
    "papermill": {
     "duration": 0.071895,
     "end_time": "2023-02-10T11:13:27.555528",
     "exception": false,
     "start_time": "2023-02-10T11:13:27.483633",
     "status": "completed"
    },
    "tags": []
   },
   "outputs": [
    {
     "data": {
      "text/html": [
       "<div>\n",
       "<style scoped>\n",
       "    .dataframe tbody tr th:only-of-type {\n",
       "        vertical-align: middle;\n",
       "    }\n",
       "\n",
       "    .dataframe tbody tr th {\n",
       "        vertical-align: top;\n",
       "    }\n",
       "\n",
       "    .dataframe thead th {\n",
       "        text-align: right;\n",
       "    }\n",
       "</style>\n",
       "<table border=\"1\" class=\"dataframe\">\n",
       "  <thead>\n",
       "    <tr style=\"text-align: right;\">\n",
       "      <th></th>\n",
       "      <th>count</th>\n",
       "      <th>mean</th>\n",
       "      <th>std</th>\n",
       "      <th>min</th>\n",
       "      <th>25%</th>\n",
       "      <th>50%</th>\n",
       "      <th>75%</th>\n",
       "      <th>max</th>\n",
       "    </tr>\n",
       "  </thead>\n",
       "  <tbody>\n",
       "    <tr>\n",
       "      <th>Crop_Year</th>\n",
       "      <td>246091.0</td>\n",
       "      <td>2005.643018</td>\n",
       "      <td>4.952164e+00</td>\n",
       "      <td>1997.00</td>\n",
       "      <td>2002.0</td>\n",
       "      <td>2006.0</td>\n",
       "      <td>2010.0</td>\n",
       "      <td>2.015000e+03</td>\n",
       "    </tr>\n",
       "    <tr>\n",
       "      <th>Area</th>\n",
       "      <td>246091.0</td>\n",
       "      <td>12002.820864</td>\n",
       "      <td>5.052340e+04</td>\n",
       "      <td>0.04</td>\n",
       "      <td>80.0</td>\n",
       "      <td>582.0</td>\n",
       "      <td>4392.0</td>\n",
       "      <td>8.580100e+06</td>\n",
       "    </tr>\n",
       "    <tr>\n",
       "      <th>Production</th>\n",
       "      <td>246091.0</td>\n",
       "      <td>573685.490072</td>\n",
       "      <td>1.693613e+07</td>\n",
       "      <td>0.00</td>\n",
       "      <td>91.0</td>\n",
       "      <td>729.0</td>\n",
       "      <td>6769.0</td>\n",
       "      <td>1.250800e+09</td>\n",
       "    </tr>\n",
       "  </tbody>\n",
       "</table>\n",
       "</div>"
      ],
      "text/plain": [
       "               count           mean           std      min     25%     50%  \\\n",
       "Crop_Year   246091.0    2005.643018  4.952164e+00  1997.00  2002.0  2006.0   \n",
       "Area        246091.0   12002.820864  5.052340e+04     0.04    80.0   582.0   \n",
       "Production  246091.0  573685.490072  1.693613e+07     0.00    91.0   729.0   \n",
       "\n",
       "               75%           max  \n",
       "Crop_Year   2010.0  2.015000e+03  \n",
       "Area        4392.0  8.580100e+06  \n",
       "Production  6769.0  1.250800e+09  "
      ]
     },
     "execution_count": 23,
     "metadata": {},
     "output_type": "execute_result"
    }
   ],
   "source": [
    "### Basic Statistical data \n",
    "df.describe().T"
   ]
  },
  {
   "cell_type": "code",
   "execution_count": 24,
   "id": "0e003212",
   "metadata": {
    "execution": {
     "iopub.execute_input": "2023-02-10T11:13:27.588718Z",
     "iopub.status.busy": "2023-02-10T11:13:27.588045Z",
     "iopub.status.idle": "2023-02-10T11:13:27.711304Z",
     "shell.execute_reply": "2023-02-10T11:13:27.710160Z"
    },
    "papermill": {
     "duration": 0.142757,
     "end_time": "2023-02-10T11:13:27.713689",
     "exception": false,
     "start_time": "2023-02-10T11:13:27.570932",
     "status": "completed"
    },
    "tags": []
   },
   "outputs": [
    {
     "data": {
      "text/html": [
       "<div>\n",
       "<style scoped>\n",
       "    .dataframe tbody tr th:only-of-type {\n",
       "        vertical-align: middle;\n",
       "    }\n",
       "\n",
       "    .dataframe tbody tr th {\n",
       "        vertical-align: top;\n",
       "    }\n",
       "\n",
       "    .dataframe thead th {\n",
       "        text-align: right;\n",
       "    }\n",
       "</style>\n",
       "<table border=\"1\" class=\"dataframe\">\n",
       "  <thead>\n",
       "    <tr style=\"text-align: right;\">\n",
       "      <th></th>\n",
       "      <th>count</th>\n",
       "      <th>unique</th>\n",
       "      <th>top</th>\n",
       "      <th>freq</th>\n",
       "    </tr>\n",
       "  </thead>\n",
       "  <tbody>\n",
       "    <tr>\n",
       "      <th>State_Name</th>\n",
       "      <td>246091</td>\n",
       "      <td>33</td>\n",
       "      <td>Uttar Pradesh</td>\n",
       "      <td>33306</td>\n",
       "    </tr>\n",
       "    <tr>\n",
       "      <th>District_Name</th>\n",
       "      <td>246091</td>\n",
       "      <td>646</td>\n",
       "      <td>BIJAPUR</td>\n",
       "      <td>945</td>\n",
       "    </tr>\n",
       "    <tr>\n",
       "      <th>Season</th>\n",
       "      <td>246091</td>\n",
       "      <td>6</td>\n",
       "      <td>Kharif</td>\n",
       "      <td>95951</td>\n",
       "    </tr>\n",
       "    <tr>\n",
       "      <th>Crop</th>\n",
       "      <td>246091</td>\n",
       "      <td>124</td>\n",
       "      <td>Rice</td>\n",
       "      <td>15104</td>\n",
       "    </tr>\n",
       "  </tbody>\n",
       "</table>\n",
       "</div>"
      ],
      "text/plain": [
       "                count unique            top   freq\n",
       "State_Name     246091     33  Uttar Pradesh  33306\n",
       "District_Name  246091    646        BIJAPUR    945\n",
       "Season         246091      6    Kharif       95951\n",
       "Crop           246091    124           Rice  15104"
      ]
     },
     "execution_count": 24,
     "metadata": {},
     "output_type": "execute_result"
    }
   ],
   "source": [
    "df.describe(include=\"object\").T"
   ]
  },
  {
   "cell_type": "code",
   "execution_count": 25,
   "id": "63c5b326",
   "metadata": {
    "execution": {
     "iopub.execute_input": "2023-02-10T11:13:27.746311Z",
     "iopub.status.busy": "2023-02-10T11:13:27.745890Z",
     "iopub.status.idle": "2023-02-10T11:13:27.771576Z",
     "shell.execute_reply": "2023-02-10T11:13:27.770455Z"
    },
    "papermill": {
     "duration": 0.044586,
     "end_time": "2023-02-10T11:13:27.773861",
     "exception": false,
     "start_time": "2023-02-10T11:13:27.729275",
     "status": "completed"
    },
    "tags": []
   },
   "outputs": [
    {
     "data": {
      "text/html": [
       "<div>\n",
       "<style scoped>\n",
       "    .dataframe tbody tr th:only-of-type {\n",
       "        vertical-align: middle;\n",
       "    }\n",
       "\n",
       "    .dataframe tbody tr th {\n",
       "        vertical-align: top;\n",
       "    }\n",
       "\n",
       "    .dataframe thead th {\n",
       "        text-align: right;\n",
       "    }\n",
       "</style>\n",
       "<table border=\"1\" class=\"dataframe\">\n",
       "  <thead>\n",
       "    <tr style=\"text-align: right;\">\n",
       "      <th></th>\n",
       "      <th>Crop_Year</th>\n",
       "      <th>Area</th>\n",
       "      <th>Production</th>\n",
       "    </tr>\n",
       "  </thead>\n",
       "  <tbody>\n",
       "    <tr>\n",
       "      <th>Crop_Year</th>\n",
       "      <td>1.000000</td>\n",
       "      <td>-0.026022</td>\n",
       "      <td>0.006827</td>\n",
       "    </tr>\n",
       "    <tr>\n",
       "      <th>Area</th>\n",
       "      <td>-0.026022</td>\n",
       "      <td>1.000000</td>\n",
       "      <td>0.040655</td>\n",
       "    </tr>\n",
       "    <tr>\n",
       "      <th>Production</th>\n",
       "      <td>0.006827</td>\n",
       "      <td>0.040655</td>\n",
       "      <td>1.000000</td>\n",
       "    </tr>\n",
       "  </tbody>\n",
       "</table>\n",
       "</div>"
      ],
      "text/plain": [
       "            Crop_Year      Area  Production\n",
       "Crop_Year    1.000000 -0.026022    0.006827\n",
       "Area        -0.026022  1.000000    0.040655\n",
       "Production   0.006827  0.040655    1.000000"
      ]
     },
     "execution_count": 25,
     "metadata": {},
     "output_type": "execute_result"
    }
   ],
   "source": [
    "### Checking correlation\n",
    "df.corr()"
   ]
  },
  {
   "cell_type": "code",
   "execution_count": 26,
   "id": "73a1df3f",
   "metadata": {
    "execution": {
     "iopub.execute_input": "2023-02-10T11:13:27.806661Z",
     "iopub.status.busy": "2023-02-10T11:13:27.806278Z",
     "iopub.status.idle": "2023-02-10T11:13:28.078176Z",
     "shell.execute_reply": "2023-02-10T11:13:28.077041Z"
    },
    "papermill": {
     "duration": 0.291019,
     "end_time": "2023-02-10T11:13:28.080539",
     "exception": false,
     "start_time": "2023-02-10T11:13:27.789520",
     "status": "completed"
    },
    "tags": []
   },
   "outputs": [
    {
     "data": {
      "text/plain": [
       "<AxesSubplot:>"
      ]
     },
     "execution_count": 26,
     "metadata": {},
     "output_type": "execute_result"
    },
    {
     "data": {
      "image/png": "[encoded data removed]",
      "text/plain": [
       "<Figure size 640x480 with 2 Axes>"
      ]
     },
     "metadata": {},
     "output_type": "display_data"
    }
   ],
   "source": [
    "sns.heatmap(df.corr(),annot=True)"
   ]
  },
  {
   "cell_type": "markdown",
   "id": "bade1cd5",
   "metadata": {
    "papermill": {
     "duration": 0.015737,
     "end_time": "2023-02-10T11:13:28.112738",
     "exception": false,
     "start_time": "2023-02-10T11:13:28.097001",
     "status": "completed"
    },
    "tags": []
   },
   "source": [
    "#### There is no strong correlation "
   ]
  },
  {
   "cell_type": "code",
   "execution_count": 27,
   "id": "0d08cca5",
   "metadata": {
    "execution": {
     "iopub.execute_input": "2023-02-10T11:13:28.146618Z",
     "iopub.status.busy": "2023-02-10T11:13:28.145945Z",
     "iopub.status.idle": "2023-02-10T11:13:28.241640Z",
     "shell.execute_reply": "2023-02-10T11:13:28.240511Z"
    },
    "papermill": {
     "duration": 0.116564,
     "end_time": "2023-02-10T11:13:28.245023",
     "exception": false,
     "start_time": "2023-02-10T11:13:28.128459",
     "status": "completed"
    },
    "tags": []
   },
   "outputs": [
    {
     "name": "stdout",
     "output_type": "stream",
     "text": [
      "State_Name --- ['Andaman and Nicobar Islands' 'Andhra Pradesh' 'Arunachal Pradesh'\n",
      " 'Assam' 'Bihar' 'Chandigarh' 'Chhattisgarh' 'Dadra and Nagar Haveli'\n",
      " 'Goa' 'Gujarat' 'Haryana' 'Himachal Pradesh' 'Jammu and Kashmir '\n",
      " 'Jharkhand' 'Karnataka' 'Kerala' 'Madhya Pradesh' 'Maharashtra' 'Manipur'\n",
      " 'Meghalaya' 'Mizoram' 'Nagaland' 'Odisha' 'Puducherry' 'Punjab'\n",
      " 'Rajasthan' 'Sikkim' 'Tamil Nadu' 'Telangana ' 'Tripura' 'Uttar Pradesh'\n",
      " 'Uttarakhand' 'West Bengal']\n",
      "District_Name --- ['NICOBARS' 'NORTH AND MIDDLE ANDAMAN' 'SOUTH ANDAMANS' 'ANANTAPUR'\n",
      " 'CHITTOOR' 'EAST GODAVARI' 'GUNTUR' 'KADAPA' 'KRISHNA' 'KURNOOL'\n",
      " 'PRAKASAM' 'SPSR NELLORE' 'SRIKAKULAM' 'VISAKHAPATANAM' 'VIZIANAGARAM'\n",
      " 'WEST GODAVARI' 'ANJAW' 'CHANGLANG' 'DIBANG VALLEY' 'EAST KAMENG'\n",
      " 'EAST SIANG' 'KURUNG KUMEY' 'LOHIT' 'LONGDING' 'LOWER DIBANG VALLEY'\n",
      " 'LOWER SUBANSIRI' 'NAMSAI' 'PAPUM PARE' 'TAWANG' 'TIRAP' 'UPPER SIANG'\n",
      " 'UPPER SUBANSIRI' 'WEST KAMENG' 'WEST SIANG' 'BAKSA' 'BARPETA'\n",
      " 'BONGAIGAON' 'CACHAR' 'CHIRANG' 'DARRANG' 'DHEMAJI' 'DHUBRI' 'DIBRUGARH'\n",
      " 'DIMA HASAO' 'GOALPARA' 'GOLAGHAT' 'HAILAKANDI' 'JORHAT' 'KAMRUP'\n",
      " 'KAMRUP METRO' 'KARBI ANGLONG' 'KARIMGANJ' 'KOKRAJHAR' 'LAKHIMPUR'\n",
      " 'MARIGAON' 'NAGAON' 'NALBARI' 'SIVASAGAR' 'SONITPUR' 'TINSUKIA'\n",
      " 'UDALGURI' 'ARARIA' 'ARWAL' 'AURANGABAD' 'BANKA' 'BEGUSARAI' 'BHAGALPUR'\n",
      " 'BHOJPUR' 'BUXAR' 'DARBHANGA' 'GAYA' 'GOPALGANJ' 'JAMUI' 'JEHANABAD'\n",
      " 'KAIMUR (BHABUA)' 'KATIHAR' 'KHAGARIA' 'KISHANGANJ' 'LAKHISARAI'\n",
      " 'MADHEPURA' 'MADHUBANI' 'MUNGER' 'MUZAFFARPUR' 'NALANDA' 'NAWADA'\n",
      " 'PASHCHIM CHAMPARAN' 'PATNA' 'PURBI CHAMPARAN' 'PURNIA' 'ROHTAS'\n",
      " 'SAHARSA' 'SAMASTIPUR' 'SARAN' 'SHEIKHPURA' 'SHEOHAR' 'SITAMARHI' 'SIWAN'\n",
      " 'SUPAUL' 'VAISHALI' 'CHANDIGARH' 'BALOD' 'BALODA BAZAR' 'BALRAMPUR'\n",
      " 'BASTAR' 'BEMETARA' 'BIJAPUR' 'BILASPUR' 'DANTEWADA' 'DHAMTARI' 'DURG'\n",
      " 'GARIYABAND' 'JANJGIR-CHAMPA' 'JASHPUR' 'KABIRDHAM' 'KANKER' 'KONDAGAON'\n",
      " 'KORBA' 'KOREA' 'MAHASAMUND' 'MUNGELI' 'NARAYANPUR' 'RAIGARH' 'RAIPUR'\n",
      " 'RAJNANDGAON' 'SUKMA' 'SURAJPUR' 'SURGUJA' 'DADRA AND NAGAR HAVELI'\n",
      " 'NORTH GOA' 'SOUTH GOA' 'AHMADABAD' 'AMRELI' 'ANAND' 'BANAS KANTHA'\n",
      " 'BHARUCH' 'BHAVNAGAR' 'DANG' 'DOHAD' 'GANDHINAGAR' 'JAMNAGAR' 'JUNAGADH'\n",
      " 'KACHCHH' 'KHEDA' 'MAHESANA' 'NARMADA' 'NAVSARI' 'PANCH MAHALS' 'PATAN'\n",
      " 'PORBANDAR' 'RAJKOT' 'SABAR KANTHA' 'SURAT' 'SURENDRANAGAR' 'TAPI'\n",
      " 'VADODARA' 'VALSAD' 'AMBALA' 'BHIWANI' 'FARIDABAD' 'FATEHABAD' 'GURGAON'\n",
      " 'HISAR' 'JHAJJAR' 'JIND' 'KAITHAL' 'KARNAL' 'KURUKSHETRA' 'MAHENDRAGARH'\n",
      " 'MEWAT' 'PALWAL' 'PANCHKULA' 'PANIPAT' 'REWARI' 'ROHTAK' 'SIRSA'\n",
      " 'SONIPAT' 'YAMUNANAGAR' 'CHAMBA' 'HAMIRPUR' 'KANGRA' 'KINNAUR' 'KULLU'\n",
      " 'LAHUL AND SPITI' 'MANDI' 'SHIMLA' 'SIRMAUR' 'SOLAN' 'UNA' 'ANANTNAG'\n",
      " 'BADGAM' 'BANDIPORA' 'BARAMULLA' 'DODA' 'GANDERBAL' 'JAMMU' 'KARGIL'\n",
      " 'KATHUA' 'KISHTWAR' 'KULGAM' 'KUPWARA' 'LEH LADAKH' 'POONCH' 'PULWAMA'\n",
      " 'RAJAURI' 'RAMBAN' 'REASI' 'SAMBA' 'SHOPIAN' 'SRINAGAR' 'UDHAMPUR'\n",
      " 'BOKARO' 'CHATRA' 'DEOGHAR' 'DHANBAD' 'DUMKA' 'EAST SINGHBUM' 'GARHWA'\n",
      " 'GIRIDIH' 'GODDA' 'GUMLA' 'HAZARIBAGH' 'JAMTARA' 'KHUNTI' 'KODERMA'\n",
      " 'LATEHAR' 'LOHARDAGA' 'PAKUR' 'PALAMU' 'RAMGARH' 'RANCHI' 'SAHEBGANJ'\n",
      " 'SARAIKELA KHARSAWAN' 'SIMDEGA' 'WEST SINGHBHUM' 'BAGALKOT'\n",
      " 'BANGALORE RURAL' 'BELGAUM' 'BELLARY' 'BENGALURU URBAN' 'BIDAR'\n",
      " 'CHAMARAJANAGAR' 'CHIKBALLAPUR' 'CHIKMAGALUR' 'CHITRADURGA'\n",
      " 'DAKSHIN KANNAD' 'DAVANGERE' 'DHARWAD' 'GADAG' 'GULBARGA' 'HASSAN'\n",
      " 'HAVERI' 'KODAGU' 'KOLAR' 'KOPPAL' 'MANDYA' 'MYSORE' 'RAICHUR'\n",
      " 'RAMANAGARA' 'SHIMOGA' 'TUMKUR' 'UDUPI' 'UTTAR KANNAD' 'YADGIR'\n",
      " 'ALAPPUZHA' 'ERNAKULAM' 'IDUKKI' 'KANNUR' 'KASARAGOD' 'KOLLAM' 'KOTTAYAM'\n",
      " 'KOZHIKODE' 'MALAPPURAM' 'PALAKKAD' 'PATHANAMTHITTA' 'THIRUVANANTHAPURAM'\n",
      " 'THRISSUR' 'WAYANAD' 'AGAR MALWA' 'ALIRAJPUR' 'ANUPPUR' 'ASHOKNAGAR'\n",
      " 'BALAGHAT' 'BARWANI' 'BETUL' 'BHIND' 'BHOPAL' 'BURHANPUR' 'CHHATARPUR'\n",
      " 'CHHINDWARA' 'DAMOH' 'DATIA' 'DEWAS' 'DHAR' 'DINDORI' 'GUNA' 'GWALIOR'\n",
      " 'HARDA' 'HOSHANGABAD' 'INDORE' 'JABALPUR' 'JHABUA' 'KATNI' 'KHANDWA'\n",
      " 'KHARGONE' 'MANDLA' 'MANDSAUR' 'MORENA' 'NARSINGHPUR' 'NEEMUCH' 'PANNA'\n",
      " 'RAISEN' 'RAJGARH' 'RATLAM' 'REWA' 'SAGAR' 'SATNA' 'SEHORE' 'SEONI'\n",
      " 'SHAHDOL' 'SHAJAPUR' 'SHEOPUR' 'SHIVPURI' 'SIDHI' 'SINGRAULI' 'TIKAMGARH'\n",
      " 'UJJAIN' 'UMARIA' 'VIDISHA' 'AHMEDNAGAR' 'AKOLA' 'AMRAVATI' 'BEED'\n",
      " 'BHANDARA' 'BULDHANA' 'CHANDRAPUR' 'DHULE' 'GADCHIROLI' 'GONDIA'\n",
      " 'HINGOLI' 'JALGAON' 'JALNA' 'KOLHAPUR' 'LATUR' 'MUMBAI' 'NAGPUR' 'NANDED'\n",
      " 'NANDURBAR' 'NASHIK' 'OSMANABAD' 'PALGHAR' 'PARBHANI' 'PUNE' 'RAIGAD'\n",
      " 'RATNAGIRI' 'SANGLI' 'SATARA' 'SINDHUDURG' 'SOLAPUR' 'THANE' 'WARDHA'\n",
      " 'WASHIM' 'YAVATMAL' 'BISHNUPUR' 'CHANDEL' 'CHURACHANDPUR' 'IMPHAL EAST'\n",
      " 'IMPHAL WEST' 'SENAPATI' 'TAMENGLONG' 'THOUBAL' 'UKHRUL'\n",
      " 'EAST GARO HILLS' 'EAST JAINTIA HILLS' 'EAST KHASI HILLS'\n",
      " 'NORTH GARO HILLS' 'RI BHOI' 'SOUTH GARO HILLS' 'SOUTH WEST GARO HILLS'\n",
      " 'SOUTH WEST KHASI HILLS' 'WEST GARO HILLS' 'WEST JAINTIA HILLS'\n",
      " 'WEST KHASI HILLS' 'AIZAWL' 'CHAMPHAI' 'KOLASIB' 'LAWNGTLAI' 'LUNGLEI'\n",
      " 'MAMIT' 'SAIHA' 'SERCHHIP' 'DIMAPUR' 'KIPHIRE' 'KOHIMA' 'LONGLENG'\n",
      " 'MOKOKCHUNG' 'MON' 'PEREN' 'PHEK' 'TUENSANG' 'WOKHA' 'ZUNHEBOTO' 'ANUGUL'\n",
      " 'BALANGIR' 'BALESHWAR' 'BARGARH' 'BHADRAK' 'BOUDH' 'CUTTACK' 'DEOGARH'\n",
      " 'DHENKANAL' 'GAJAPATI' 'GANJAM' 'JAGATSINGHAPUR' 'JAJAPUR' 'JHARSUGUDA'\n",
      " 'KALAHANDI' 'KANDHAMAL' 'KENDRAPARA' 'KENDUJHAR' 'KHORDHA' 'KORAPUT'\n",
      " 'MALKANGIRI' 'MAYURBHANJ' 'NABARANGPUR' 'NAYAGARH' 'NUAPADA' 'PURI'\n",
      " 'RAYAGADA' 'SAMBALPUR' 'SONEPUR' 'SUNDARGARH' 'KARAIKAL' 'MAHE'\n",
      " 'PONDICHERRY' 'YANAM' 'AMRITSAR' 'BARNALA' 'BATHINDA' 'FARIDKOT'\n",
      " 'FATEHGARH SAHIB' 'FAZILKA' 'FIROZEPUR' 'GURDASPUR' 'HOSHIARPUR'\n",
      " 'JALANDHAR' 'KAPURTHALA' 'LUDHIANA' 'MANSA' 'MOGA' 'MUKTSAR' 'NAWANSHAHR'\n",
      " 'PATHANKOT' 'PATIALA' 'RUPNAGAR' 'S.A.S NAGAR' 'SANGRUR' 'TARN TARAN'\n",
      " 'AJMER' 'ALWAR' 'BANSWARA' 'BARAN' 'BARMER' 'BHARATPUR' 'BHILWARA'\n",
      " 'BIKANER' 'BUNDI' 'CHITTORGARH' 'CHURU' 'DAUSA' 'DHOLPUR' 'DUNGARPUR'\n",
      " 'GANGANAGAR' 'HANUMANGARH' 'JAIPUR' 'JAISALMER' 'JALORE' 'JHALAWAR'\n",
      " 'JHUNJHUNU' 'JODHPUR' 'KARAULI' 'KOTA' 'NAGAUR' 'PALI' 'PRATAPGARH'\n",
      " 'RAJSAMAND' 'SAWAI MADHOPUR' 'SIKAR' 'SIROHI' 'TONK' 'UDAIPUR'\n",
      " 'EAST DISTRICT' 'NORTH DISTRICT' 'SOUTH DISTRICT' 'WEST DISTRICT'\n",
      " 'ARIYALUR' 'COIMBATORE' 'CUDDALORE' 'DHARMAPURI' 'DINDIGUL' 'ERODE'\n",
      " 'KANCHIPURAM' 'KANNIYAKUMARI' 'KARUR' 'KRISHNAGIRI' 'MADURAI'\n",
      " 'NAGAPATTINAM' 'NAMAKKAL' 'PERAMBALUR' 'PUDUKKOTTAI' 'RAMANATHAPURAM'\n",
      " 'SALEM' 'SIVAGANGA' 'THANJAVUR' 'THE NILGIRIS' 'THENI' 'THIRUVALLUR'\n",
      " 'THIRUVARUR' 'TIRUCHIRAPPALLI' 'TIRUNELVELI' 'TIRUPPUR' 'TIRUVANNAMALAI'\n",
      " 'TUTICORIN' 'VELLORE' 'VILLUPURAM' 'VIRUDHUNAGAR' 'ADILABAD' 'HYDERABAD'\n",
      " 'KARIMNAGAR' 'KHAMMAM' 'MAHBUBNAGAR' 'MEDAK' 'NALGONDA' 'NIZAMABAD'\n",
      " 'RANGAREDDI' 'WARANGAL' 'DHALAI' 'GOMATI' 'KHOWAI' 'NORTH TRIPURA'\n",
      " 'SEPAHIJALA' 'SOUTH TRIPURA' 'UNAKOTI' 'WEST TRIPURA' 'AGRA' 'ALIGARH'\n",
      " 'ALLAHABAD' 'AMBEDKAR NAGAR' 'AMETHI' 'AMROHA' 'AURAIYA' 'AZAMGARH'\n",
      " 'BAGHPAT' 'BAHRAICH' 'BALLIA' 'BANDA' 'BARABANKI' 'BAREILLY' 'BASTI'\n",
      " 'BIJNOR' 'BUDAUN' 'BULANDSHAHR' 'CHANDAULI' 'CHITRAKOOT' 'DEORIA' 'ETAH'\n",
      " 'ETAWAH' 'FAIZABAD' 'FARRUKHABAD' 'FATEHPUR' 'FIROZABAD'\n",
      " 'GAUTAM BUDDHA NAGAR' 'GHAZIABAD' 'GHAZIPUR' 'GONDA' 'GORAKHPUR' 'HAPUR'\n",
      " 'HARDOI' 'HATHRAS' 'JALAUN' 'JAUNPUR' 'JHANSI' 'KANNAUJ' 'KANPUR DEHAT'\n",
      " 'KANPUR NAGAR' 'KASGANJ' 'KAUSHAMBI' 'KHERI' 'KUSHI NAGAR' 'LALITPUR'\n",
      " 'LUCKNOW' 'MAHARAJGANJ' 'MAHOBA' 'MAINPURI' 'MATHURA' 'MAU' 'MEERUT'\n",
      " 'MIRZAPUR' 'MORADABAD' 'MUZAFFARNAGAR' 'PILIBHIT' 'RAE BARELI' 'RAMPUR'\n",
      " 'SAHARANPUR' 'SAMBHAL' 'SANT KABEER NAGAR' 'SANT RAVIDAS NAGAR'\n",
      " 'SHAHJAHANPUR' 'SHAMLI' 'SHRAVASTI' 'SIDDHARTH NAGAR' 'SITAPUR'\n",
      " 'SONBHADRA' 'SULTANPUR' 'UNNAO' 'VARANASI' 'ALMORA' 'BAGESHWAR' 'CHAMOLI'\n",
      " 'CHAMPAWAT' 'DEHRADUN' 'HARIDWAR' 'NAINITAL' 'PAURI GARHWAL'\n",
      " 'PITHORAGARH' 'RUDRA PRAYAG' 'TEHRI GARHWAL' 'UDAM SINGH NAGAR'\n",
      " 'UTTAR KASHI' '24 PARAGANAS NORTH' '24 PARAGANAS SOUTH' 'BANKURA'\n",
      " 'BARDHAMAN' 'BIRBHUM' 'COOCHBEHAR' 'DARJEELING' 'DINAJPUR DAKSHIN'\n",
      " 'DINAJPUR UTTAR' 'HOOGHLY' 'HOWRAH' 'JALPAIGURI' 'MALDAH'\n",
      " 'MEDINIPUR EAST' 'MEDINIPUR WEST' 'MURSHIDABAD' 'NADIA' 'PURULIA']\n",
      "Crop_Year --- [2000 2001 2002 2003 2004 2005 2006 2010 1997 1998 1999 2007 2008 2009\n",
      " 2011 2012 2013 2014 2015]\n",
      "Season --- ['Kharif     ' 'Whole Year ' 'Autumn     ' 'Rabi       ' 'Summer     '\n",
      " 'Winter     ']\n",
      "Crop --- ['Arecanut' 'Other Kharif pulses' 'Rice' 'Banana' 'Cashewnut' 'Coconut '\n",
      " 'Dry ginger' 'Sugarcane' 'Sweet potato' 'Tapioca' 'Black pepper'\n",
      " 'Dry chillies' 'other oilseeds' 'Turmeric' 'Maize' 'Moong(Green Gram)'\n",
      " 'Urad' 'Arhar/Tur' 'Groundnut' 'Sunflower' 'Bajra' 'Castor seed'\n",
      " 'Cotton(lint)' 'Horse-gram' 'Jowar' 'Korra' 'Ragi' 'Tobacco' 'Gram'\n",
      " 'Wheat' 'Masoor' 'Sesamum' 'Linseed' 'Safflower' 'Onion'\n",
      " 'other misc. pulses' 'Samai' 'Small millets' 'Coriander' 'Potato'\n",
      " 'Other  Rabi pulses' 'Soyabean' 'Beans & Mutter(Vegetable)' 'Bhindi'\n",
      " 'Brinjal' 'Citrus Fruit' 'Cucumber' 'Grapes' 'Mango' 'Orange'\n",
      " 'other fibres' 'Other Fresh Fruits' 'Other Vegetables' 'Papaya'\n",
      " 'Pome Fruit' 'Tomato' 'Rapeseed &Mustard' 'Mesta' 'Cowpea(Lobia)' 'Lemon'\n",
      " 'Pome Granet' 'Sapota' 'Cabbage' 'Peas  (vegetable)' 'Niger seed'\n",
      " 'Bottle Gourd' 'Sannhamp' 'Varagu' 'Garlic' 'Ginger' 'Oilseeds total'\n",
      " 'Pulses total' 'Jute' 'Peas & beans (Pulses)' 'Blackgram' 'Paddy'\n",
      " 'Pineapple' 'Barley' 'Khesari' 'Guar seed' 'Moth'\n",
      " 'Other Cereals & Millets' 'Cond-spcs other' 'Turnip' 'Carrot' 'Redish'\n",
      " 'Arcanut (Processed)' 'Atcanut (Raw)' 'Cashewnut Processed'\n",
      " 'Cashewnut Raw' 'Cardamom' 'Rubber' 'Bitter Gourd' 'Drum Stick'\n",
      " 'Jack Fruit' 'Snak Guard' 'Pump Kin' 'Tea' 'Coffee' 'Cauliflower'\n",
      " 'Other Citrus Fruit' 'Water Melon' 'Total foodgrain' 'Kapas' 'Colocosia'\n",
      " 'Lentil' 'Bean' 'Jobster' 'Perilla' 'Rajmash Kholar' 'Ricebean (nagadal)'\n",
      " 'Ash Gourd' 'Beet Root' 'Lab-Lab' 'Ribed Guard' 'Yam' 'Apple' 'Peach'\n",
      " 'Pear' 'Plums' 'Litchi' 'Ber' 'Other Dry Fruit' 'Jute & mesta']\n",
      "Area --- [1.25400e+03 2.00000e+00 1.02000e+02 ... 3.02274e+05 1.14930e+04\n",
      " 2.79151e+05]\n",
      "Production --- [2.00000e+03 1.00000e+00 3.21000e+02 ... 7.29553e+05 7.30136e+05\n",
      " 5.97899e+05]\n"
     ]
    }
   ],
   "source": [
    "### Checking unique values\n",
    "for i in df.columns:\n",
    "    print(i,\"---\",df[i].unique())"
   ]
  },
  {
   "cell_type": "code",
   "execution_count": null,
   "id": "a848b4c7",
   "metadata": {
    "papermill": {
     "duration": 0.015862,
     "end_time": "2023-02-10T11:13:28.278421",
     "exception": false,
     "start_time": "2023-02-10T11:13:28.262559",
     "status": "completed"
    },
    "tags": []
   },
   "outputs": [],
   "source": []
  },
  {
   "cell_type": "markdown",
   "id": "50fba5c8",
   "metadata": {
    "papermill": {
     "duration": 0.015954,
     "end_time": "2023-02-10T11:13:28.310527",
     "exception": false,
     "start_time": "2023-02-10T11:13:28.294573",
     "status": "completed"
    },
    "tags": []
   },
   "source": [
    "# Exploratory Data Analysis"
   ]
  },
  {
   "cell_type": "code",
   "execution_count": 28,
   "id": "aa66ad9a",
   "metadata": {
    "execution": {
     "iopub.execute_input": "2023-02-10T11:13:28.344746Z",
     "iopub.status.busy": "2023-02-10T11:13:28.344323Z",
     "iopub.status.idle": "2023-02-10T11:13:28.363943Z",
     "shell.execute_reply": "2023-02-10T11:13:28.363175Z"
    },
    "papermill": {
     "duration": 0.039235,
     "end_time": "2023-02-10T11:13:28.365987",
     "exception": false,
     "start_time": "2023-02-10T11:13:28.326752",
     "status": "completed"
    },
    "tags": []
   },
   "outputs": [
    {
     "data": {
      "text/html": [
       "<div>\n",
       "<style scoped>\n",
       "    .dataframe tbody tr th:only-of-type {\n",
       "        vertical-align: middle;\n",
       "    }\n",
       "\n",
       "    .dataframe tbody tr th {\n",
       "        vertical-align: top;\n",
       "    }\n",
       "\n",
       "    .dataframe thead th {\n",
       "        text-align: right;\n",
       "    }\n",
       "</style>\n",
       "<table border=\"1\" class=\"dataframe\">\n",
       "  <thead>\n",
       "    <tr style=\"text-align: right;\">\n",
       "      <th></th>\n",
       "      <th>State_Name</th>\n",
       "      <th>District_Name</th>\n",
       "      <th>Crop_Year</th>\n",
       "      <th>Season</th>\n",
       "      <th>Crop</th>\n",
       "      <th>Area</th>\n",
       "      <th>Production</th>\n",
       "    </tr>\n",
       "  </thead>\n",
       "  <tbody>\n",
       "    <tr>\n",
       "      <th>208763</th>\n",
       "      <td>Uttar Pradesh</td>\n",
       "      <td>ETAWAH</td>\n",
       "      <td>2002</td>\n",
       "      <td>Kharif</td>\n",
       "      <td>Maize</td>\n",
       "      <td>5898.0</td>\n",
       "      <td>9904.0</td>\n",
       "    </tr>\n",
       "    <tr>\n",
       "      <th>90618</th>\n",
       "      <td>Karnataka</td>\n",
       "      <td>KODAGU</td>\n",
       "      <td>1997</td>\n",
       "      <td>Kharif</td>\n",
       "      <td>Black pepper</td>\n",
       "      <td>1385.0</td>\n",
       "      <td>393.0</td>\n",
       "    </tr>\n",
       "  </tbody>\n",
       "</table>\n",
       "</div>"
      ],
      "text/plain": [
       "           State_Name District_Name  Crop_Year       Season          Crop  \\\n",
       "208763  Uttar Pradesh        ETAWAH       2002  Kharif              Maize   \n",
       "90618       Karnataka        KODAGU       1997  Kharif       Black pepper   \n",
       "\n",
       "          Area  Production  \n",
       "208763  5898.0      9904.0  \n",
       "90618   1385.0       393.0  "
      ]
     },
     "execution_count": 28,
     "metadata": {},
     "output_type": "execute_result"
    }
   ],
   "source": [
    "df.sample(2)"
   ]
  },
  {
   "cell_type": "code",
   "execution_count": 29,
   "id": "30c4d20d",
   "metadata": {
    "execution": {
     "iopub.execute_input": "2023-02-10T11:13:28.401151Z",
     "iopub.status.busy": "2023-02-10T11:13:28.400422Z",
     "iopub.status.idle": "2023-02-10T11:13:29.055157Z",
     "shell.execute_reply": "2023-02-10T11:13:29.054040Z"
    },
    "papermill": {
     "duration": 0.675315,
     "end_time": "2023-02-10T11:13:29.057889",
     "exception": false,
     "start_time": "2023-02-10T11:13:28.382574",
     "status": "completed"
    },
    "tags": []
   },
   "outputs": [
    {
     "name": "stdout",
     "output_type": "stream",
     "text": [
      "Uttar Pradesh                  33306\n",
      "Madhya Pradesh                 22943\n",
      "Karnataka                      21122\n",
      "Bihar                          18885\n",
      "Assam                          14628\n",
      "Odisha                         13575\n",
      "Tamil Nadu                     13547\n",
      "Maharashtra                    12628\n",
      "Rajasthan                      12514\n",
      "Chhattisgarh                   10709\n",
      "Andhra Pradesh                  9628\n",
      "West Bengal                     9613\n",
      "Gujarat                         8436\n",
      "Haryana                         5875\n",
      "Telangana                       5649\n",
      "Uttarakhand                     4896\n",
      "Kerala                          4261\n",
      "Nagaland                        3906\n",
      "Punjab                          3173\n",
      "Meghalaya                       2867\n",
      "Arunachal Pradesh               2546\n",
      "Himachal Pradesh                2494\n",
      "Jammu and Kashmir               1634\n",
      "Tripura                         1412\n",
      "Manipur                         1267\n",
      "Jharkhand                       1266\n",
      "Mizoram                          957\n",
      "Puducherry                       876\n",
      "Sikkim                           714\n",
      "Dadra and Nagar Haveli           263\n",
      "Goa                              208\n",
      "Andaman and Nicobar Islands      203\n",
      "Chandigarh                        90\n",
      "Name: State_Name, dtype: int64\n"
     ]
    },
    {
     "data": {
      "image/png": "[encoded data removed]",
      "text/plain": [
       "<Figure size 1100x1100 with 1 Axes>"
      ]
     },
     "metadata": {},
     "output_type": "display_data"
    }
   ],
   "source": [
    "### which states has highest no of crops produced\n",
    "print(df[\"State_Name\"].value_counts())\n",
    "plt.figure(figsize=(11,11))\n",
    "sns.countplot(x=\"State_Name\",data=df,edgecolor=\"black\")\n",
    "plt.xticks(rotation=90);"
   ]
  },
  {
   "cell_type": "code",
   "execution_count": 30,
   "id": "dcc81d0b",
   "metadata": {
    "execution": {
     "iopub.execute_input": "2023-02-10T11:13:29.095149Z",
     "iopub.status.busy": "2023-02-10T11:13:29.094496Z",
     "iopub.status.idle": "2023-02-10T11:13:29.478568Z",
     "shell.execute_reply": "2023-02-10T11:13:29.477348Z"
    },
    "papermill": {
     "duration": 0.405515,
     "end_time": "2023-02-10T11:13:29.480988",
     "exception": false,
     "start_time": "2023-02-10T11:13:29.075473",
     "status": "completed"
    },
    "tags": []
   },
   "outputs": [
    {
     "name": "stdout",
     "output_type": "stream",
     "text": [
      "2003    17287\n",
      "2002    16671\n",
      "2008    14550\n",
      "2007    14526\n",
      "2006    14328\n",
      "2004    14117\n",
      "2009    14116\n",
      "2011    14071\n",
      "2010    14065\n",
      "2005    13799\n",
      "2000    13658\n",
      "2013    13650\n",
      "2012    13410\n",
      "2001    13361\n",
      "1999    12515\n",
      "1998    11533\n",
      "2014    10973\n",
      "1997     8899\n",
      "2015      562\n",
      "Name: Crop_Year, dtype: int64\n"
     ]
    },
    {
     "data": {
      "image/png": "[encoded data removed]",
      "text/plain": [
       "<Figure size 1100x1100 with 1 Axes>"
      ]
     },
     "metadata": {},
     "output_type": "display_data"
    }
   ],
   "source": [
    "### which is the most occuring year \n",
    "print(df[\"Crop_Year\"].value_counts())\n",
    "plt.figure(figsize=(11,11))\n",
    "sns.countplot(x=\"Crop_Year\",data=df,edgecolor=\"black\")\n",
    "plt.xticks(rotation=90);"
   ]
  },
  {
   "cell_type": "code",
   "execution_count": 31,
   "id": "86a4ba90",
   "metadata": {
    "execution": {
     "iopub.execute_input": "2023-02-10T11:13:29.518834Z",
     "iopub.status.busy": "2023-02-10T11:13:29.518442Z",
     "iopub.status.idle": "2023-02-10T11:13:29.917200Z",
     "shell.execute_reply": "2023-02-10T11:13:29.915977Z"
    },
    "papermill": {
     "duration": 0.420396,
     "end_time": "2023-02-10T11:13:29.919456",
     "exception": false,
     "start_time": "2023-02-10T11:13:29.499060",
     "status": "completed"
    },
    "tags": []
   },
   "outputs": [
    {
     "name": "stdout",
     "output_type": "stream",
     "text": [
      "Kharif         95951\n",
      "Rabi           66987\n",
      "Whole Year     57305\n",
      "Summer         14841\n",
      "Winter          6058\n",
      "Autumn          4949\n",
      "Name: Season, dtype: int64\n"
     ]
    },
    {
     "data": {
      "image/png": "[encoded data removed]",
      "text/plain": [
       "<Figure size 800x800 with 1 Axes>"
      ]
     },
     "metadata": {},
     "output_type": "display_data"
    }
   ],
   "source": [
    "### which season is most occoured\n",
    "print(df[\"Season\"].value_counts())\n",
    "plt.figure(figsize=(8,8))\n",
    "sns.countplot(x=\"Season\",data=df,edgecolor=\"black\")\n",
    "plt.xticks(rotation=90);\n"
   ]
  },
  {
   "cell_type": "code",
   "execution_count": 32,
   "id": "45ea0c13",
   "metadata": {
    "execution": {
     "iopub.execute_input": "2023-02-10T11:13:29.958030Z",
     "iopub.status.busy": "2023-02-10T11:13:29.957602Z",
     "iopub.status.idle": "2023-02-10T11:13:30.250329Z",
     "shell.execute_reply": "2023-02-10T11:13:30.248936Z"
    },
    "papermill": {
     "duration": 0.318684,
     "end_time": "2023-02-10T11:13:30.256568",
     "exception": false,
     "start_time": "2023-02-10T11:13:29.937884",
     "status": "completed"
    },
    "tags": []
   },
   "outputs": [
    {
     "name": "stdout",
     "output_type": "stream",
     "text": [
      "Rice                 15104\n",
      "Maize                13947\n",
      "Moong(Green Gram)    10318\n",
      "Urad                  9850\n",
      "Sesamum               9046\n",
      "Groundnut             8834\n",
      "Sugarcane             7921\n",
      "Wheat                 7899\n",
      "Rapeseed &Mustard     7592\n",
      "Arhar/Tur             7578\n",
      "Name: Crop, dtype: int64\n"
     ]
    },
    {
     "data": {
      "image/png": "[encoded data removed]",
      "text/plain": [
       "<Figure size 1000x1000 with 1 Axes>"
      ]
     },
     "metadata": {},
     "output_type": "display_data"
    }
   ],
   "source": [
    "##Top 10 most occouring crops\n",
    "x= df[\"Crop\"].value_counts().head(10)\n",
    "print(x)\n",
    "plt.figure(figsize=(10,10))\n",
    "plt.pie(x,labels=df[\"Crop\"].value_counts().head(10).index,autopct= \"%0.0f%%\",shadow=True,explode=[0,0,0,0,0.1,0.1,0.1,0.1,0.1,0.1]);"
   ]
  },
  {
   "cell_type": "code",
   "execution_count": 33,
   "id": "3f6421e3",
   "metadata": {
    "execution": {
     "iopub.execute_input": "2023-02-10T11:13:30.301651Z",
     "iopub.status.busy": "2023-02-10T11:13:30.301244Z",
     "iopub.status.idle": "2023-02-10T11:13:30.322188Z",
     "shell.execute_reply": "2023-02-10T11:13:30.321053Z"
    },
    "papermill": {
     "duration": 0.044356,
     "end_time": "2023-02-10T11:13:30.324548",
     "exception": false,
     "start_time": "2023-02-10T11:13:30.280192",
     "status": "completed"
    },
    "tags": []
   },
   "outputs": [
    {
     "data": {
      "text/html": [
       "<div>\n",
       "<style scoped>\n",
       "    .dataframe tbody tr th:only-of-type {\n",
       "        vertical-align: middle;\n",
       "    }\n",
       "\n",
       "    .dataframe tbody tr th {\n",
       "        vertical-align: top;\n",
       "    }\n",
       "\n",
       "    .dataframe thead th {\n",
       "        text-align: right;\n",
       "    }\n",
       "</style>\n",
       "<table border=\"1\" class=\"dataframe\">\n",
       "  <thead>\n",
       "    <tr style=\"text-align: right;\">\n",
       "      <th></th>\n",
       "      <th>State_Name</th>\n",
       "      <th>District_Name</th>\n",
       "      <th>Crop_Year</th>\n",
       "      <th>Season</th>\n",
       "      <th>Crop</th>\n",
       "      <th>Area</th>\n",
       "      <th>Production</th>\n",
       "    </tr>\n",
       "  </thead>\n",
       "  <tbody>\n",
       "    <tr>\n",
       "      <th>223254</th>\n",
       "      <td>Uttar Pradesh</td>\n",
       "      <td>MIRZAPUR</td>\n",
       "      <td>2008</td>\n",
       "      <td>Kharif</td>\n",
       "      <td>Dry chillies</td>\n",
       "      <td>1413.0</td>\n",
       "      <td>1409.0</td>\n",
       "    </tr>\n",
       "    <tr>\n",
       "      <th>134388</th>\n",
       "      <td>Maharashtra</td>\n",
       "      <td>PUNE</td>\n",
       "      <td>2009</td>\n",
       "      <td>Rabi</td>\n",
       "      <td>Wheat</td>\n",
       "      <td>59600.0</td>\n",
       "      <td>91800.0</td>\n",
       "    </tr>\n",
       "  </tbody>\n",
       "</table>\n",
       "</div>"
      ],
      "text/plain": [
       "           State_Name District_Name  Crop_Year       Season          Crop  \\\n",
       "223254  Uttar Pradesh      MIRZAPUR       2008  Kharif       Dry chillies   \n",
       "134388    Maharashtra          PUNE       2009  Rabi                Wheat   \n",
       "\n",
       "           Area  Production  \n",
       "223254   1413.0      1409.0  \n",
       "134388  59600.0     91800.0  "
      ]
     },
     "execution_count": 33,
     "metadata": {},
     "output_type": "execute_result"
    }
   ],
   "source": [
    "df.sample(2)"
   ]
  },
  {
   "cell_type": "code",
   "execution_count": 34,
   "id": "4b80eea4",
   "metadata": {
    "execution": {
     "iopub.execute_input": "2023-02-10T11:13:30.366998Z",
     "iopub.status.busy": "2023-02-10T11:13:30.366573Z",
     "iopub.status.idle": "2023-02-10T11:13:30.618242Z",
     "shell.execute_reply": "2023-02-10T11:13:30.616670Z"
    },
    "papermill": {
     "duration": 0.277855,
     "end_time": "2023-02-10T11:13:30.622670",
     "exception": false,
     "start_time": "2023-02-10T11:13:30.344815",
     "status": "completed"
    },
    "tags": []
   },
   "outputs": [
    {
     "name": "stdout",
     "output_type": "stream",
     "text": [
      "Crop\n",
      "Coconut      1.299816e+11\n",
      "Sugarcane    5.535750e+09\n",
      "Rice         1.605486e+09\n",
      "Name: Production, dtype: float64\n"
     ]
    },
    {
     "data": {
      "image/png": "[encoded data removed]",
      "text/plain": [
       "<Figure size 1000x1000 with 1 Axes>"
      ]
     },
     "metadata": {},
     "output_type": "display_data"
    }
   ],
   "source": [
    "## Which  has the highest production of crops\n",
    "c=df.groupby([\"Crop\"])[\"Production\"].sum().sort_values(ascending=False).head(3)\n",
    "print(c)\n",
    "plt.figure(figsize=(10,10))\n",
    "plt.pie(c,labels=df.groupby([\"Crop\"])[\"Production\"].sum().sort_values(ascending=False).head(3).index,autopct=\"%0.01f%%\",shadow=True,explode=[0,0.30,0.50]);"
   ]
  },
  {
   "cell_type": "code",
   "execution_count": 35,
   "id": "1851662f",
   "metadata": {
    "execution": {
     "iopub.execute_input": "2023-02-10T11:13:30.672430Z",
     "iopub.status.busy": "2023-02-10T11:13:30.672021Z",
     "iopub.status.idle": "2023-02-10T11:13:56.058086Z",
     "shell.execute_reply": "2023-02-10T11:13:56.056607Z"
    },
    "papermill": {
     "duration": 25.41195,
     "end_time": "2023-02-10T11:13:56.061336",
     "exception": false,
     "start_time": "2023-02-10T11:13:30.649386",
     "status": "completed"
    },
    "tags": []
   },
   "outputs": [
    {
     "name": "stdout",
     "output_type": "stream",
     "text": [
      "State_Name\n",
      "Kerala                         9.788023e+10\n",
      "Andhra Pradesh                 1.732464e+10\n",
      "Tamil Nadu                     1.207665e+10\n",
      "Uttar Pradesh                  3.234578e+09\n",
      "Assam                          2.111756e+09\n",
      "West Bengal                    1.397916e+09\n",
      "Maharashtra                    1.263737e+09\n",
      "Karnataka                      8.634612e+08\n",
      "Andaman and Nicobar Islands    7.182247e+08\n",
      "Punjab                         5.864069e+08\n",
      "Gujarat                        5.243431e+08\n",
      "Goa                            5.057565e+08\n",
      "Madhya Pradesh                 4.490879e+08\n",
      "Puducherry                     3.847274e+08\n",
      "Haryana                        3.822471e+08\n",
      "Bihar                          3.664916e+08\n",
      "Telangana                      3.351902e+08\n",
      "Rajasthan                      2.816469e+08\n",
      "Odisha                         1.609412e+08\n",
      "Uttarakhand                    1.322291e+08\n",
      "Chhattisgarh                   1.012005e+08\n",
      "Himachal Pradesh               1.783287e+07\n",
      "Jammu and Kashmir              1.329247e+07\n",
      "Nagaland                       1.276741e+07\n",
      "Tripura                        1.252292e+07\n",
      "Meghalaya                      1.211250e+07\n",
      "Jharkhand                      1.077774e+07\n",
      "Arunachal Pradesh              6.824642e+06\n",
      "Manipur                        5.231646e+06\n",
      "Sikkim                         2.435735e+06\n",
      "Dadra and Nagar Haveli         1.847871e+06\n",
      "Mizoram                        1.663727e+06\n",
      "Chandigarh                     6.468550e+04\n",
      "Name: Production, dtype: float64\n"
     ]
    },
    {
     "data": {
      "image/png": "[encoded data removed]",
      "text/plain": [
       "<Figure size 1000x1500 with 1 Axes>"
      ]
     },
     "metadata": {},
     "output_type": "display_data"
    }
   ],
   "source": [
    "## Which State has the highest production \n",
    "print(df.groupby(\"State_Name\")[\"Production\"].sum().sort_values(ascending=False))\n",
    "plt.figure(figsize=(10,15))\n",
    "sns.barplot(x=\"State_Name\",y=\"Production\",edgecolor=\"black\",estimator=sum,data=df)\n",
    "plt.xticks(rotation=90);"
   ]
  },
  {
   "cell_type": "code",
   "execution_count": 36,
   "id": "c5d9972e",
   "metadata": {
    "execution": {
     "iopub.execute_input": "2023-02-10T11:13:56.108737Z",
     "iopub.status.busy": "2023-02-10T11:13:56.107888Z",
     "iopub.status.idle": "2023-02-10T11:13:56.452533Z",
     "shell.execute_reply": "2023-02-10T11:13:56.451482Z"
    },
    "papermill": {
     "duration": 0.371003,
     "end_time": "2023-02-10T11:13:56.455112",
     "exception": false,
     "start_time": "2023-02-10T11:13:56.084109",
     "status": "completed"
    },
    "tags": []
   },
   "outputs": [
    {
     "name": "stdout",
     "output_type": "stream",
     "text": [
      "        District_Name    Production\n",
      "0           KOZHIKODE  1.528076e+10\n",
      "1          MALAPPURAM  1.451842e+10\n",
      "2  THIRUVANANTHAPURAM  1.002273e+10\n",
      "3            THRISSUR  9.923514e+09\n",
      "4              KANNUR  9.783457e+09\n",
      "5       EAST GODAVARI  8.271064e+09\n",
      "6           KASARAGOD  7.732240e+09\n",
      "7              KOLLAM  7.151966e+09\n",
      "8            PALAKKAD  6.369395e+09\n",
      "9           ERNAKULAM  5.021661e+09\n"
     ]
    },
    {
     "data": {
      "image/png": "[encoded data removed]",
      "text/plain": [
       "<Figure size 1000x1500 with 1 Axes>"
      ]
     },
     "metadata": {},
     "output_type": "display_data"
    }
   ],
   "source": [
    "\n",
    "# Which top 10 District has the highest crop production\n",
    "d=df.groupby([\"District_Name\"])[\"Production\"].sum().sort_values(ascending=False).reset_index().head(10)\n",
    "print(d)\n",
    "plt.figure(figsize=(10,15))\n",
    "sns.barplot(x=\"District_Name\",y=\"Production\",edgecolor=\"black\",estimator=sum,data=d)\n",
    "plt.xticks(rotation=90);"
   ]
  },
  {
   "cell_type": "code",
   "execution_count": 37,
   "id": "abfa8f1c",
   "metadata": {
    "execution": {
     "iopub.execute_input": "2023-02-10T11:13:56.502339Z",
     "iopub.status.busy": "2023-02-10T11:13:56.501598Z",
     "iopub.status.idle": "2023-02-10T11:13:56.516858Z",
     "shell.execute_reply": "2023-02-10T11:13:56.515621Z"
    },
    "papermill": {
     "duration": 0.041394,
     "end_time": "2023-02-10T11:13:56.519189",
     "exception": false,
     "start_time": "2023-02-10T11:13:56.477795",
     "status": "completed"
    },
    "tags": []
   },
   "outputs": [
    {
     "data": {
      "text/html": [
       "<div>\n",
       "<style scoped>\n",
       "    .dataframe tbody tr th:only-of-type {\n",
       "        vertical-align: middle;\n",
       "    }\n",
       "\n",
       "    .dataframe tbody tr th {\n",
       "        vertical-align: top;\n",
       "    }\n",
       "\n",
       "    .dataframe thead th {\n",
       "        text-align: right;\n",
       "    }\n",
       "</style>\n",
       "<table border=\"1\" class=\"dataframe\">\n",
       "  <thead>\n",
       "    <tr style=\"text-align: right;\">\n",
       "      <th></th>\n",
       "      <th>State_Name</th>\n",
       "      <th>District_Name</th>\n",
       "      <th>Crop_Year</th>\n",
       "      <th>Season</th>\n",
       "      <th>Crop</th>\n",
       "      <th>Area</th>\n",
       "      <th>Production</th>\n",
       "    </tr>\n",
       "  </thead>\n",
       "  <tbody>\n",
       "    <tr>\n",
       "      <th>178273</th>\n",
       "      <td>Tamil Nadu</td>\n",
       "      <td>COIMBATORE</td>\n",
       "      <td>2011</td>\n",
       "      <td>Whole Year</td>\n",
       "      <td>Coconut</td>\n",
       "      <td>82704.0</td>\n",
       "      <td>1.250800e+09</td>\n",
       "    </tr>\n",
       "  </tbody>\n",
       "</table>\n",
       "</div>"
      ],
      "text/plain": [
       "        State_Name District_Name  Crop_Year       Season      Crop     Area  \\\n",
       "178273  Tamil Nadu    COIMBATORE       2011  Whole Year   Coconut   82704.0   \n",
       "\n",
       "          Production  \n",
       "178273  1.250800e+09  "
      ]
     },
     "execution_count": 37,
     "metadata": {},
     "output_type": "execute_result"
    }
   ],
   "source": [
    "## Which is the maximum and minimum production crop\n",
    "df[df[\"Production\"]==df[\"Production\"].max()]"
   ]
  },
  {
   "cell_type": "code",
   "execution_count": 38,
   "id": "4a41c71a",
   "metadata": {
    "execution": {
     "iopub.execute_input": "2023-02-10T11:13:56.566640Z",
     "iopub.status.busy": "2023-02-10T11:13:56.565943Z",
     "iopub.status.idle": "2023-02-10T11:13:56.583288Z",
     "shell.execute_reply": "2023-02-10T11:13:56.582241Z"
    },
    "papermill": {
     "duration": 0.043647,
     "end_time": "2023-02-10T11:13:56.585427",
     "exception": false,
     "start_time": "2023-02-10T11:13:56.541780",
     "status": "completed"
    },
    "tags": []
   },
   "outputs": [
    {
     "data": {
      "text/html": [
       "<div>\n",
       "<style scoped>\n",
       "    .dataframe tbody tr th:only-of-type {\n",
       "        vertical-align: middle;\n",
       "    }\n",
       "\n",
       "    .dataframe tbody tr th {\n",
       "        vertical-align: top;\n",
       "    }\n",
       "\n",
       "    .dataframe thead th {\n",
       "        text-align: right;\n",
       "    }\n",
       "</style>\n",
       "<table border=\"1\" class=\"dataframe\">\n",
       "  <thead>\n",
       "    <tr style=\"text-align: right;\">\n",
       "      <th></th>\n",
       "      <th>State_Name</th>\n",
       "      <th>District_Name</th>\n",
       "      <th>Crop_Year</th>\n",
       "      <th>Season</th>\n",
       "      <th>Crop</th>\n",
       "      <th>Area</th>\n",
       "      <th>Production</th>\n",
       "    </tr>\n",
       "  </thead>\n",
       "  <tbody>\n",
       "    <tr>\n",
       "      <th>397</th>\n",
       "      <td>Andhra Pradesh</td>\n",
       "      <td>ANANTAPUR</td>\n",
       "      <td>2002</td>\n",
       "      <td>Kharif</td>\n",
       "      <td>Soyabean</td>\n",
       "      <td>51.0</td>\n",
       "      <td>0.0</td>\n",
       "    </tr>\n",
       "    <tr>\n",
       "      <th>170839</th>\n",
       "      <td>Rajasthan</td>\n",
       "      <td>JAIPUR</td>\n",
       "      <td>2002</td>\n",
       "      <td>Rabi</td>\n",
       "      <td>Other  Rabi pulses</td>\n",
       "      <td>1.0</td>\n",
       "      <td>0.0</td>\n",
       "    </tr>\n",
       "    <tr>\n",
       "      <th>170460</th>\n",
       "      <td>Rajasthan</td>\n",
       "      <td>HANUMANGARH</td>\n",
       "      <td>2002</td>\n",
       "      <td>Whole Year</td>\n",
       "      <td>Grapes</td>\n",
       "      <td>6.0</td>\n",
       "      <td>0.0</td>\n",
       "    </tr>\n",
       "    <tr>\n",
       "      <th>170463</th>\n",
       "      <td>Rajasthan</td>\n",
       "      <td>HANUMANGARH</td>\n",
       "      <td>2002</td>\n",
       "      <td>Whole Year</td>\n",
       "      <td>Other Fresh Fruits</td>\n",
       "      <td>161.0</td>\n",
       "      <td>0.0</td>\n",
       "    </tr>\n",
       "    <tr>\n",
       "      <th>170464</th>\n",
       "      <td>Rajasthan</td>\n",
       "      <td>HANUMANGARH</td>\n",
       "      <td>2002</td>\n",
       "      <td>Whole Year</td>\n",
       "      <td>Other Vegetables</td>\n",
       "      <td>922.0</td>\n",
       "      <td>0.0</td>\n",
       "    </tr>\n",
       "  </tbody>\n",
       "</table>\n",
       "</div>"
      ],
      "text/plain": [
       "            State_Name District_Name  Crop_Year       Season  \\\n",
       "397     Andhra Pradesh     ANANTAPUR       2002  Kharif        \n",
       "170839       Rajasthan        JAIPUR       2002  Rabi          \n",
       "170460       Rajasthan   HANUMANGARH       2002  Whole Year    \n",
       "170463       Rajasthan   HANUMANGARH       2002  Whole Year    \n",
       "170464       Rajasthan   HANUMANGARH       2002  Whole Year    \n",
       "\n",
       "                      Crop   Area  Production  \n",
       "397               Soyabean   51.0         0.0  \n",
       "170839  Other  Rabi pulses    1.0         0.0  \n",
       "170460              Grapes    6.0         0.0  \n",
       "170463  Other Fresh Fruits  161.0         0.0  \n",
       "170464    Other Vegetables  922.0         0.0  "
      ]
     },
     "execution_count": 38,
     "metadata": {},
     "output_type": "execute_result"
    }
   ],
   "source": [
    "df[df[\"Production\"]==df[\"Production\"].min()].sort_values(by=\"Production\",ascending=False).head(5)"
   ]
  },
  {
   "cell_type": "code",
   "execution_count": 39,
   "id": "f3f8933f",
   "metadata": {
    "execution": {
     "iopub.execute_input": "2023-02-10T11:13:56.632801Z",
     "iopub.status.busy": "2023-02-10T11:13:56.632233Z",
     "iopub.status.idle": "2023-02-10T11:13:56.650333Z",
     "shell.execute_reply": "2023-02-10T11:13:56.649584Z"
    },
    "papermill": {
     "duration": 0.044251,
     "end_time": "2023-02-10T11:13:56.652349",
     "exception": false,
     "start_time": "2023-02-10T11:13:56.608098",
     "status": "completed"
    },
    "tags": []
   },
   "outputs": [
    {
     "data": {
      "text/html": [
       "<div>\n",
       "<style scoped>\n",
       "    .dataframe tbody tr th:only-of-type {\n",
       "        vertical-align: middle;\n",
       "    }\n",
       "\n",
       "    .dataframe tbody tr th {\n",
       "        vertical-align: top;\n",
       "    }\n",
       "\n",
       "    .dataframe thead th {\n",
       "        text-align: right;\n",
       "    }\n",
       "</style>\n",
       "<table border=\"1\" class=\"dataframe\">\n",
       "  <thead>\n",
       "    <tr style=\"text-align: right;\">\n",
       "      <th></th>\n",
       "      <th>State_Name</th>\n",
       "      <th>District_Name</th>\n",
       "      <th>Crop_Year</th>\n",
       "      <th>Season</th>\n",
       "      <th>Crop</th>\n",
       "      <th>Area</th>\n",
       "      <th>Production</th>\n",
       "    </tr>\n",
       "  </thead>\n",
       "  <tbody>\n",
       "    <tr>\n",
       "      <th>135908</th>\n",
       "      <td>Maharashtra</td>\n",
       "      <td>SINDHUDURG</td>\n",
       "      <td>1998</td>\n",
       "      <td>Kharif</td>\n",
       "      <td>Sesamum</td>\n",
       "      <td>200.0</td>\n",
       "      <td>100.0</td>\n",
       "    </tr>\n",
       "    <tr>\n",
       "      <th>52201</th>\n",
       "      <td>Chhattisgarh</td>\n",
       "      <td>KORBA</td>\n",
       "      <td>2003</td>\n",
       "      <td>Kharif</td>\n",
       "      <td>Jowar</td>\n",
       "      <td>414.0</td>\n",
       "      <td>332.0</td>\n",
       "    </tr>\n",
       "  </tbody>\n",
       "</table>\n",
       "</div>"
      ],
      "text/plain": [
       "          State_Name District_Name  Crop_Year       Season     Crop   Area  \\\n",
       "135908   Maharashtra    SINDHUDURG       1998  Kharif       Sesamum  200.0   \n",
       "52201   Chhattisgarh         KORBA       2003  Kharif         Jowar  414.0   \n",
       "\n",
       "        Production  \n",
       "135908       100.0  \n",
       "52201        332.0  "
      ]
     },
     "execution_count": 39,
     "metadata": {},
     "output_type": "execute_result"
    }
   ],
   "source": [
    "df.sample(2)"
   ]
  },
  {
   "cell_type": "code",
   "execution_count": 40,
   "id": "c455fc41",
   "metadata": {
    "execution": {
     "iopub.execute_input": "2023-02-10T11:13:56.701734Z",
     "iopub.status.busy": "2023-02-10T11:13:56.701148Z",
     "iopub.status.idle": "2023-02-10T11:13:56.988885Z",
     "shell.execute_reply": "2023-02-10T11:13:56.987811Z"
    },
    "papermill": {
     "duration": 0.316148,
     "end_time": "2023-02-10T11:13:56.991437",
     "exception": false,
     "start_time": "2023-02-10T11:13:56.675289",
     "status": "completed"
    },
    "tags": []
   },
   "outputs": [
    {
     "name": "stdout",
     "output_type": "stream",
     "text": [
      "           Crop          Area\n",
      "0          Rice  7.471253e+08\n",
      "1         Wheat  4.707136e+08\n",
      "2  Cotton(lint)  1.565681e+08\n",
      "3         Bajra  1.411408e+08\n",
      "4         Jowar  1.377159e+08\n"
     ]
    },
    {
     "data": {
      "image/png": "[encoded data removed]",
      "text/plain": [
       "<Figure size 800x800 with 1 Axes>"
      ]
     },
     "metadata": {},
     "output_type": "display_data"
    }
   ],
   "source": [
    "## Which top 5 Crop took the maximum piece of area \n",
    "top=df.groupby(\"Crop\")[\"Area\"].sum().sort_values(ascending=False).head().reset_index()\n",
    "print(top)\n",
    "plt.figure(figsize=(8,8))\n",
    "sns.barplot(x=\"Area\",y=\"Crop\",data=top,edgecolor=\"black\");"
   ]
  },
  {
   "cell_type": "code",
   "execution_count": 41,
   "id": "31fe46e2",
   "metadata": {
    "execution": {
     "iopub.execute_input": "2023-02-10T11:13:57.040745Z",
     "iopub.status.busy": "2023-02-10T11:13:57.040359Z",
     "iopub.status.idle": "2023-02-10T11:13:57.071910Z",
     "shell.execute_reply": "2023-02-10T11:13:57.070718Z"
    },
    "papermill": {
     "duration": 0.059515,
     "end_time": "2023-02-10T11:13:57.074357",
     "exception": false,
     "start_time": "2023-02-10T11:13:57.014842",
     "status": "completed"
    },
    "tags": []
   },
   "outputs": [
    {
     "data": {
      "text/plain": [
       "State_Name\n",
       "Mizoram       1663726.83\n",
       "Chandigarh      64685.50\n",
       "Name: Production, dtype: float64"
      ]
     },
     "execution_count": 41,
     "metadata": {},
     "output_type": "execute_result"
    }
   ],
   "source": [
    "#Which state in India had the second lowest crop production\n",
    "df.groupby([\"State_Name\"])[\"Production\"].sum().sort_values(ascending=False).tail(2)\n"
   ]
  },
  {
   "cell_type": "markdown",
   "id": "fa80b3d8",
   "metadata": {
    "papermill": {
     "duration": 0.023078,
     "end_time": "2023-02-10T11:13:57.120532",
     "exception": false,
     "start_time": "2023-02-10T11:13:57.097454",
     "status": "completed"
    },
    "tags": []
   },
   "source": [
    "#### Mizoram had the second lowest crop production"
   ]
  },
  {
   "cell_type": "code",
   "execution_count": 42,
   "id": "f3c3a8ce",
   "metadata": {
    "execution": {
     "iopub.execute_input": "2023-02-10T11:13:57.169138Z",
     "iopub.status.busy": "2023-02-10T11:13:57.168538Z",
     "iopub.status.idle": "2023-02-10T11:13:57.218113Z",
     "shell.execute_reply": "2023-02-10T11:13:57.217256Z"
    },
    "papermill": {
     "duration": 0.076331,
     "end_time": "2023-02-10T11:13:57.220173",
     "exception": false,
     "start_time": "2023-02-10T11:13:57.143842",
     "status": "completed"
    },
    "tags": []
   },
   "outputs": [
    {
     "data": {
      "text/html": [
       "<div>\n",
       "<style scoped>\n",
       "    .dataframe tbody tr th:only-of-type {\n",
       "        vertical-align: middle;\n",
       "    }\n",
       "\n",
       "    .dataframe tbody tr th {\n",
       "        vertical-align: top;\n",
       "    }\n",
       "\n",
       "    .dataframe thead th {\n",
       "        text-align: right;\n",
       "    }\n",
       "</style>\n",
       "<table border=\"1\" class=\"dataframe\">\n",
       "  <thead>\n",
       "    <tr style=\"text-align: right;\">\n",
       "      <th></th>\n",
       "      <th>Crop_Year</th>\n",
       "      <th>Crop</th>\n",
       "      <th>Production</th>\n",
       "    </tr>\n",
       "  </thead>\n",
       "  <tbody>\n",
       "    <tr>\n",
       "      <th>0</th>\n",
       "      <td>2011</td>\n",
       "      <td>Coconut</td>\n",
       "      <td>1.359422e+10</td>\n",
       "    </tr>\n",
       "    <tr>\n",
       "      <th>1</th>\n",
       "      <td>2013</td>\n",
       "      <td>Coconut</td>\n",
       "      <td>1.221919e+10</td>\n",
       "    </tr>\n",
       "    <tr>\n",
       "      <th>2</th>\n",
       "      <td>2006</td>\n",
       "      <td>Coconut</td>\n",
       "      <td>8.092567e+09</td>\n",
       "    </tr>\n",
       "    <tr>\n",
       "      <th>3</th>\n",
       "      <td>2014</td>\n",
       "      <td>Coconut</td>\n",
       "      <td>8.067815e+09</td>\n",
       "    </tr>\n",
       "    <tr>\n",
       "      <th>4</th>\n",
       "      <td>2004</td>\n",
       "      <td>Coconut</td>\n",
       "      <td>7.663984e+09</td>\n",
       "    </tr>\n",
       "  </tbody>\n",
       "</table>\n",
       "</div>"
      ],
      "text/plain": [
       "   Crop_Year      Crop    Production\n",
       "0       2011  Coconut   1.359422e+10\n",
       "1       2013  Coconut   1.221919e+10\n",
       "2       2006  Coconut   8.092567e+09\n",
       "3       2014  Coconut   8.067815e+09\n",
       "4       2004  Coconut   7.663984e+09"
      ]
     },
     "execution_count": 42,
     "metadata": {},
     "output_type": "execute_result"
    }
   ],
   "source": [
    "## Which year has the highest crop production \n",
    "df.groupby([\"Crop_Year\",\"Crop\"])[\"Production\"].sum().sort_values(ascending=False).reset_index().head(5)\n"
   ]
  },
  {
   "cell_type": "markdown",
   "id": "4e8df517",
   "metadata": {
    "papermill": {
     "duration": 0.023491,
     "end_time": "2023-02-10T11:13:57.267466",
     "exception": false,
     "start_time": "2023-02-10T11:13:57.243975",
     "status": "completed"
    },
    "tags": []
   },
   "source": [
    "\n",
    "#### 2011 has the highest crop production and the most crop produced is coconut"
   ]
  },
  {
   "cell_type": "code",
   "execution_count": 43,
   "id": "39071f70",
   "metadata": {
    "execution": {
     "iopub.execute_input": "2023-02-10T11:13:57.316782Z",
     "iopub.status.busy": "2023-02-10T11:13:57.316199Z",
     "iopub.status.idle": "2023-02-10T11:13:57.332866Z",
     "shell.execute_reply": "2023-02-10T11:13:57.331730Z"
    },
    "papermill": {
     "duration": 0.043858,
     "end_time": "2023-02-10T11:13:57.334984",
     "exception": false,
     "start_time": "2023-02-10T11:13:57.291126",
     "status": "completed"
    },
    "tags": []
   },
   "outputs": [
    {
     "data": {
      "text/html": [
       "<div>\n",
       "<style scoped>\n",
       "    .dataframe tbody tr th:only-of-type {\n",
       "        vertical-align: middle;\n",
       "    }\n",
       "\n",
       "    .dataframe tbody tr th {\n",
       "        vertical-align: top;\n",
       "    }\n",
       "\n",
       "    .dataframe thead th {\n",
       "        text-align: right;\n",
       "    }\n",
       "</style>\n",
       "<table border=\"1\" class=\"dataframe\">\n",
       "  <thead>\n",
       "    <tr style=\"text-align: right;\">\n",
       "      <th></th>\n",
       "      <th>Crop</th>\n",
       "      <th>Production</th>\n",
       "    </tr>\n",
       "  </thead>\n",
       "  <tbody>\n",
       "    <tr>\n",
       "      <th>57</th>\n",
       "      <td>Sannhamp</td>\n",
       "      <td>18606.0</td>\n",
       "    </tr>\n",
       "    <tr>\n",
       "      <th>58</th>\n",
       "      <td>Cardamom</td>\n",
       "      <td>5615.0</td>\n",
       "    </tr>\n",
       "    <tr>\n",
       "      <th>59</th>\n",
       "      <td>Brinjal</td>\n",
       "      <td>694.0</td>\n",
       "    </tr>\n",
       "    <tr>\n",
       "      <th>60</th>\n",
       "      <td>Blackgram</td>\n",
       "      <td>450.0</td>\n",
       "    </tr>\n",
       "    <tr>\n",
       "      <th>61</th>\n",
       "      <td>Mango</td>\n",
       "      <td>401.0</td>\n",
       "    </tr>\n",
       "  </tbody>\n",
       "</table>\n",
       "</div>"
      ],
      "text/plain": [
       "         Crop  Production\n",
       "57   Sannhamp     18606.0\n",
       "58   Cardamom      5615.0\n",
       "59    Brinjal       694.0\n",
       "60  Blackgram       450.0\n",
       "61      Mango       401.0"
      ]
     },
     "execution_count": 43,
     "metadata": {},
     "output_type": "execute_result"
    }
   ],
   "source": [
    "## Which is the least producted crop in 2011\n",
    "x= df[df[\"Crop_Year\"]==2011]\n",
    "x.groupby(\"Crop\")[\"Production\"].sum().sort_values(ascending=False).reset_index().tail(5)\n"
   ]
  },
  {
   "cell_type": "markdown",
   "id": "6448d1db",
   "metadata": {
    "papermill": {
     "duration": 0.023026,
     "end_time": "2023-02-10T11:13:57.381403",
     "exception": false,
     "start_time": "2023-02-10T11:13:57.358377",
     "status": "completed"
    },
    "tags": []
   },
   "source": [
    "#### Mongo is the least produced crop in 2011 where this is the year in which production is the highest \n"
   ]
  },
  {
   "cell_type": "code",
   "execution_count": 44,
   "id": "43843943",
   "metadata": {
    "execution": {
     "iopub.execute_input": "2023-02-10T11:13:57.430298Z",
     "iopub.status.busy": "2023-02-10T11:13:57.429901Z",
     "iopub.status.idle": "2023-02-10T11:14:22.794321Z",
     "shell.execute_reply": "2023-02-10T11:14:22.793298Z"
    },
    "papermill": {
     "duration": 25.392334,
     "end_time": "2023-02-10T11:14:22.797243",
     "exception": false,
     "start_time": "2023-02-10T11:13:57.404909",
     "status": "completed"
    },
    "tags": []
   },
   "outputs": [
    {
     "name": "stdout",
     "output_type": "stream",
     "text": [
      "Season\n",
      "Whole Year     1.344257e+11\n",
      "Kharif         4.031186e+09\n",
      "Rabi           2.052290e+09\n",
      "Winter         4.345557e+08\n",
      "Summer         1.706798e+08\n",
      "Autumn         6.442762e+07\n",
      "Name: Production, dtype: float64\n"
     ]
    },
    {
     "data": {
      "text/plain": [
       "<AxesSubplot:xlabel='Production', ylabel='Season'>"
      ]
     },
     "execution_count": 44,
     "metadata": {},
     "output_type": "execute_result"
    },
    {
     "data": {
      "image/png": "[encoded data removed]",
      "text/plain": [
       "<Figure size 800x800 with 1 Axes>"
      ]
     },
     "metadata": {},
     "output_type": "display_data"
    }
   ],
   "source": [
    "## Which season has the highest production \n",
    "print(df.groupby(\"Season\")[\"Production\"].sum().sort_values(ascending=False))\n",
    "plt.figure(figsize=(8,8))\n",
    "sns.barplot(x=\"Production\",y=\"Season\",data=df,edgecolor=\"black\",estimator=sum)\n",
    "\n"
   ]
  },
  {
   "cell_type": "code",
   "execution_count": 45,
   "id": "5bc06e5d",
   "metadata": {
    "execution": {
     "iopub.execute_input": "2023-02-10T11:14:22.847638Z",
     "iopub.status.busy": "2023-02-10T11:14:22.847214Z",
     "iopub.status.idle": "2023-02-10T11:14:22.881733Z",
     "shell.execute_reply": "2023-02-10T11:14:22.880543Z"
    },
    "papermill": {
     "duration": 0.062981,
     "end_time": "2023-02-10T11:14:22.884349",
     "exception": false,
     "start_time": "2023-02-10T11:14:22.821368",
     "status": "completed"
    },
    "tags": []
   },
   "outputs": [
    {
     "data": {
      "text/html": [
       "<div>\n",
       "<style scoped>\n",
       "    .dataframe tbody tr th:only-of-type {\n",
       "        vertical-align: middle;\n",
       "    }\n",
       "\n",
       "    .dataframe tbody tr th {\n",
       "        vertical-align: top;\n",
       "    }\n",
       "\n",
       "    .dataframe thead th {\n",
       "        text-align: right;\n",
       "    }\n",
       "</style>\n",
       "<table border=\"1\" class=\"dataframe\">\n",
       "  <thead>\n",
       "    <tr style=\"text-align: right;\">\n",
       "      <th></th>\n",
       "      <th>Area</th>\n",
       "    </tr>\n",
       "    <tr>\n",
       "      <th>State_Name</th>\n",
       "      <th></th>\n",
       "    </tr>\n",
       "  </thead>\n",
       "  <tbody>\n",
       "    <tr>\n",
       "      <th>West Bengal</th>\n",
       "      <td>8580100.0</td>\n",
       "    </tr>\n",
       "  </tbody>\n",
       "</table>\n",
       "</div>"
      ],
      "text/plain": [
       "                  Area\n",
       "State_Name            \n",
       "West Bengal  8580100.0"
      ]
     },
     "execution_count": 45,
     "metadata": {},
     "output_type": "execute_result"
    }
   ],
   "source": [
    "## Which State has the largest and lowest area for production \n",
    "df.groupby(\"State_Name\")[\"Area\"].max().sort_values(ascending=False).to_frame().head(1)"
   ]
  },
  {
   "cell_type": "code",
   "execution_count": 46,
   "id": "0101789c",
   "metadata": {
    "execution": {
     "iopub.execute_input": "2023-02-10T11:14:22.934736Z",
     "iopub.status.busy": "2023-02-10T11:14:22.934361Z",
     "iopub.status.idle": "2023-02-10T11:14:22.966236Z",
     "shell.execute_reply": "2023-02-10T11:14:22.965042Z"
    },
    "papermill": {
     "duration": 0.059995,
     "end_time": "2023-02-10T11:14:22.968715",
     "exception": false,
     "start_time": "2023-02-10T11:14:22.908720",
     "status": "completed"
    },
    "tags": []
   },
   "outputs": [
    {
     "data": {
      "text/html": [
       "<div>\n",
       "<style scoped>\n",
       "    .dataframe tbody tr th:only-of-type {\n",
       "        vertical-align: middle;\n",
       "    }\n",
       "\n",
       "    .dataframe tbody tr th {\n",
       "        vertical-align: top;\n",
       "    }\n",
       "\n",
       "    .dataframe thead th {\n",
       "        text-align: right;\n",
       "    }\n",
       "</style>\n",
       "<table border=\"1\" class=\"dataframe\">\n",
       "  <thead>\n",
       "    <tr style=\"text-align: right;\">\n",
       "      <th></th>\n",
       "      <th>Area</th>\n",
       "    </tr>\n",
       "    <tr>\n",
       "      <th>State_Name</th>\n",
       "      <th></th>\n",
       "    </tr>\n",
       "  </thead>\n",
       "  <tbody>\n",
       "    <tr>\n",
       "      <th>Chandigarh</th>\n",
       "      <td>880.0</td>\n",
       "    </tr>\n",
       "  </tbody>\n",
       "</table>\n",
       "</div>"
      ],
      "text/plain": [
       "             Area\n",
       "State_Name       \n",
       "Chandigarh  880.0"
      ]
     },
     "execution_count": 46,
     "metadata": {},
     "output_type": "execute_result"
    }
   ],
   "source": [
    "df.groupby(\"State_Name\")[\"Area\"].max().sort_values(ascending=False).to_frame().tail(1)"
   ]
  },
  {
   "cell_type": "markdown",
   "id": "6da40045",
   "metadata": {
    "papermill": {
     "duration": 0.024474,
     "end_time": "2023-02-10T11:14:23.018590",
     "exception": false,
     "start_time": "2023-02-10T11:14:22.994116",
     "status": "completed"
    },
    "tags": []
   },
   "source": [
    "#### West Bengal has the highest area for production and chandigarh has lowest area for production "
   ]
  },
  {
   "cell_type": "code",
   "execution_count": 47,
   "id": "20e5ab47",
   "metadata": {
    "execution": {
     "iopub.execute_input": "2023-02-10T11:14:23.069615Z",
     "iopub.status.busy": "2023-02-10T11:14:23.069229Z",
     "iopub.status.idle": "2023-02-10T11:14:23.115452Z",
     "shell.execute_reply": "2023-02-10T11:14:23.114325Z"
    },
    "papermill": {
     "duration": 0.074547,
     "end_time": "2023-02-10T11:14:23.117801",
     "exception": false,
     "start_time": "2023-02-10T11:14:23.043254",
     "status": "completed"
    },
    "tags": []
   },
   "outputs": [
    {
     "data": {
      "text/html": [
       "<div>\n",
       "<style scoped>\n",
       "    .dataframe tbody tr th:only-of-type {\n",
       "        vertical-align: middle;\n",
       "    }\n",
       "\n",
       "    .dataframe tbody tr th {\n",
       "        vertical-align: top;\n",
       "    }\n",
       "\n",
       "    .dataframe thead th {\n",
       "        text-align: right;\n",
       "    }\n",
       "</style>\n",
       "<table border=\"1\" class=\"dataframe\">\n",
       "  <thead>\n",
       "    <tr style=\"text-align: right;\">\n",
       "      <th></th>\n",
       "      <th>Production</th>\n",
       "    </tr>\n",
       "    <tr>\n",
       "      <th>Crop</th>\n",
       "      <th></th>\n",
       "    </tr>\n",
       "  </thead>\n",
       "  <tbody>\n",
       "    <tr>\n",
       "      <th>Sugarcane</th>\n",
       "      <td>1.774444e+09</td>\n",
       "    </tr>\n",
       "    <tr>\n",
       "      <th>Rice</th>\n",
       "      <td>9.416668e+08</td>\n",
       "    </tr>\n",
       "  </tbody>\n",
       "</table>\n",
       "</div>"
      ],
      "text/plain": [
       "             Production\n",
       "Crop                   \n",
       "Sugarcane  1.774444e+09\n",
       "Rice       9.416668e+08"
      ]
     },
     "execution_count": 47,
     "metadata": {},
     "output_type": "execute_result"
    }
   ],
   "source": [
    "k=df[df[\"Season\"]==\"Kharif     \"]\n",
    "k.groupby(\"Crop\")[\"Production\"].sum().sort_values(ascending=False).head(2).to_frame()\n"
   ]
  },
  {
   "cell_type": "code",
   "execution_count": 48,
   "id": "ce6eab30",
   "metadata": {
    "execution": {
     "iopub.execute_input": "2023-02-10T11:14:23.168623Z",
     "iopub.status.busy": "2023-02-10T11:14:23.168231Z",
     "iopub.status.idle": "2023-02-10T11:14:23.209407Z",
     "shell.execute_reply": "2023-02-10T11:14:23.208547Z"
    },
    "papermill": {
     "duration": 0.069278,
     "end_time": "2023-02-10T11:14:23.211545",
     "exception": false,
     "start_time": "2023-02-10T11:14:23.142267",
     "status": "completed"
    },
    "tags": []
   },
   "outputs": [
    {
     "data": {
      "text/html": [
       "<div>\n",
       "<style scoped>\n",
       "    .dataframe tbody tr th:only-of-type {\n",
       "        vertical-align: middle;\n",
       "    }\n",
       "\n",
       "    .dataframe tbody tr th {\n",
       "        vertical-align: top;\n",
       "    }\n",
       "\n",
       "    .dataframe thead th {\n",
       "        text-align: right;\n",
       "    }\n",
       "</style>\n",
       "<table border=\"1\" class=\"dataframe\">\n",
       "  <thead>\n",
       "    <tr style=\"text-align: right;\">\n",
       "      <th></th>\n",
       "      <th>Production</th>\n",
       "    </tr>\n",
       "    <tr>\n",
       "      <th>Crop</th>\n",
       "      <th></th>\n",
       "    </tr>\n",
       "  </thead>\n",
       "  <tbody>\n",
       "    <tr>\n",
       "      <th>Coconut</th>\n",
       "      <td>1.299815e+11</td>\n",
       "    </tr>\n",
       "    <tr>\n",
       "      <th>Sugarcane</th>\n",
       "      <td>3.745242e+09</td>\n",
       "    </tr>\n",
       "  </tbody>\n",
       "</table>\n",
       "</div>"
      ],
      "text/plain": [
       "             Production\n",
       "Crop                   \n",
       "Coconut    1.299815e+11\n",
       "Sugarcane  3.745242e+09"
      ]
     },
     "execution_count": 48,
     "metadata": {},
     "output_type": "execute_result"
    }
   ],
   "source": [
    "w=df[df[\"Season\"]==\"Whole Year \"]\n",
    "w.groupby(\"Crop\")[\"Production\"].sum().sort_values(ascending=False).head(2).to_frame()\n"
   ]
  },
  {
   "cell_type": "code",
   "execution_count": 49,
   "id": "bfeadbd5",
   "metadata": {
    "execution": {
     "iopub.execute_input": "2023-02-10T11:14:23.262831Z",
     "iopub.status.busy": "2023-02-10T11:14:23.262425Z",
     "iopub.status.idle": "2023-02-10T11:14:23.294053Z",
     "shell.execute_reply": "2023-02-10T11:14:23.292972Z"
    },
    "papermill": {
     "duration": 0.060045,
     "end_time": "2023-02-10T11:14:23.296329",
     "exception": false,
     "start_time": "2023-02-10T11:14:23.236284",
     "status": "completed"
    },
    "tags": []
   },
   "outputs": [
    {
     "data": {
      "text/html": [
       "<div>\n",
       "<style scoped>\n",
       "    .dataframe tbody tr th:only-of-type {\n",
       "        vertical-align: middle;\n",
       "    }\n",
       "\n",
       "    .dataframe tbody tr th {\n",
       "        vertical-align: top;\n",
       "    }\n",
       "\n",
       "    .dataframe thead th {\n",
       "        text-align: right;\n",
       "    }\n",
       "</style>\n",
       "<table border=\"1\" class=\"dataframe\">\n",
       "  <thead>\n",
       "    <tr style=\"text-align: right;\">\n",
       "      <th></th>\n",
       "      <th>Production</th>\n",
       "    </tr>\n",
       "    <tr>\n",
       "      <th>Crop</th>\n",
       "      <th></th>\n",
       "    </tr>\n",
       "  </thead>\n",
       "  <tbody>\n",
       "    <tr>\n",
       "      <th>Rice</th>\n",
       "      <td>51855942.54</td>\n",
       "    </tr>\n",
       "    <tr>\n",
       "      <th>Maize</th>\n",
       "      <td>8933762.65</td>\n",
       "    </tr>\n",
       "  </tbody>\n",
       "</table>\n",
       "</div>"
      ],
      "text/plain": [
       "        Production\n",
       "Crop              \n",
       "Rice   51855942.54\n",
       "Maize   8933762.65"
      ]
     },
     "execution_count": 49,
     "metadata": {},
     "output_type": "execute_result"
    }
   ],
   "source": [
    "a=df[df[\"Season\"]==\"Autumn     \"]\n",
    "a.groupby(\"Crop\")[\"Production\"].sum().sort_values(ascending=False).head(2).to_frame()\n"
   ]
  },
  {
   "cell_type": "code",
   "execution_count": 50,
   "id": "7bb37224",
   "metadata": {
    "execution": {
     "iopub.execute_input": "2023-02-10T11:14:23.348316Z",
     "iopub.status.busy": "2023-02-10T11:14:23.347905Z",
     "iopub.status.idle": "2023-02-10T11:14:23.390789Z",
     "shell.execute_reply": "2023-02-10T11:14:23.389725Z"
    },
    "papermill": {
     "duration": 0.071753,
     "end_time": "2023-02-10T11:14:23.393169",
     "exception": false,
     "start_time": "2023-02-10T11:14:23.321416",
     "status": "completed"
    },
    "tags": []
   },
   "outputs": [
    {
     "data": {
      "text/html": [
       "<div>\n",
       "<style scoped>\n",
       "    .dataframe tbody tr th:only-of-type {\n",
       "        vertical-align: middle;\n",
       "    }\n",
       "\n",
       "    .dataframe tbody tr th {\n",
       "        vertical-align: top;\n",
       "    }\n",
       "\n",
       "    .dataframe thead th {\n",
       "        text-align: right;\n",
       "    }\n",
       "</style>\n",
       "<table border=\"1\" class=\"dataframe\">\n",
       "  <thead>\n",
       "    <tr style=\"text-align: right;\">\n",
       "      <th></th>\n",
       "      <th>Production</th>\n",
       "    </tr>\n",
       "    <tr>\n",
       "      <th>Crop</th>\n",
       "      <th></th>\n",
       "    </tr>\n",
       "  </thead>\n",
       "  <tbody>\n",
       "    <tr>\n",
       "      <th>Wheat</th>\n",
       "      <td>1.323902e+09</td>\n",
       "    </tr>\n",
       "    <tr>\n",
       "      <th>Potato</th>\n",
       "      <td>2.051821e+08</td>\n",
       "    </tr>\n",
       "  </tbody>\n",
       "</table>\n",
       "</div>"
      ],
      "text/plain": [
       "          Production\n",
       "Crop                \n",
       "Wheat   1.323902e+09\n",
       "Potato  2.051821e+08"
      ]
     },
     "execution_count": 50,
     "metadata": {},
     "output_type": "execute_result"
    }
   ],
   "source": [
    "r=df[df[\"Season\"]==\"Rabi       \"]\n",
    "r.groupby(\"Crop\")[\"Production\"].sum().sort_values(ascending=False).head(2).to_frame()\n"
   ]
  },
  {
   "cell_type": "code",
   "execution_count": 51,
   "id": "f6337d2f",
   "metadata": {
    "execution": {
     "iopub.execute_input": "2023-02-10T11:14:23.444591Z",
     "iopub.status.busy": "2023-02-10T11:14:23.444215Z",
     "iopub.status.idle": "2023-02-10T11:14:23.477115Z",
     "shell.execute_reply": "2023-02-10T11:14:23.476009Z"
    },
    "papermill": {
     "duration": 0.06141,
     "end_time": "2023-02-10T11:14:23.479474",
     "exception": false,
     "start_time": "2023-02-10T11:14:23.418064",
     "status": "completed"
    },
    "tags": []
   },
   "outputs": [
    {
     "data": {
      "text/html": [
       "<div>\n",
       "<style scoped>\n",
       "    .dataframe tbody tr th:only-of-type {\n",
       "        vertical-align: middle;\n",
       "    }\n",
       "\n",
       "    .dataframe tbody tr th {\n",
       "        vertical-align: top;\n",
       "    }\n",
       "\n",
       "    .dataframe thead th {\n",
       "        text-align: right;\n",
       "    }\n",
       "</style>\n",
       "<table border=\"1\" class=\"dataframe\">\n",
       "  <thead>\n",
       "    <tr style=\"text-align: right;\">\n",
       "      <th></th>\n",
       "      <th>Production</th>\n",
       "    </tr>\n",
       "    <tr>\n",
       "      <th>Crop</th>\n",
       "      <th></th>\n",
       "    </tr>\n",
       "  </thead>\n",
       "  <tbody>\n",
       "    <tr>\n",
       "      <th>Rice</th>\n",
       "      <td>1.277057e+08</td>\n",
       "    </tr>\n",
       "    <tr>\n",
       "      <th>Maize</th>\n",
       "      <td>1.392567e+07</td>\n",
       "    </tr>\n",
       "  </tbody>\n",
       "</table>\n",
       "</div>"
      ],
      "text/plain": [
       "         Production\n",
       "Crop               \n",
       "Rice   1.277057e+08\n",
       "Maize  1.392567e+07"
      ]
     },
     "execution_count": 51,
     "metadata": {},
     "output_type": "execute_result"
    }
   ],
   "source": [
    "s=df[df[\"Season\"]==\"Summer     \"]\n",
    "s.groupby(\"Crop\")[\"Production\"].sum().sort_values(ascending=False).head(2).to_frame()"
   ]
  },
  {
   "cell_type": "code",
   "execution_count": 52,
   "id": "871d15e0",
   "metadata": {
    "execution": {
     "iopub.execute_input": "2023-02-10T11:14:23.531658Z",
     "iopub.status.busy": "2023-02-10T11:14:23.531271Z",
     "iopub.status.idle": "2023-02-10T11:14:23.562669Z",
     "shell.execute_reply": "2023-02-10T11:14:23.561505Z"
    },
    "papermill": {
     "duration": 0.060405,
     "end_time": "2023-02-10T11:14:23.565033",
     "exception": false,
     "start_time": "2023-02-10T11:14:23.504628",
     "status": "completed"
    },
    "tags": []
   },
   "outputs": [
    {
     "data": {
      "text/html": [
       "<div>\n",
       "<style scoped>\n",
       "    .dataframe tbody tr th:only-of-type {\n",
       "        vertical-align: middle;\n",
       "    }\n",
       "\n",
       "    .dataframe tbody tr th {\n",
       "        vertical-align: top;\n",
       "    }\n",
       "\n",
       "    .dataframe thead th {\n",
       "        text-align: right;\n",
       "    }\n",
       "</style>\n",
       "<table border=\"1\" class=\"dataframe\">\n",
       "  <thead>\n",
       "    <tr style=\"text-align: right;\">\n",
       "      <th></th>\n",
       "      <th>Production</th>\n",
       "    </tr>\n",
       "    <tr>\n",
       "      <th>Crop</th>\n",
       "      <th></th>\n",
       "    </tr>\n",
       "  </thead>\n",
       "  <tbody>\n",
       "    <tr>\n",
       "      <th>Rice</th>\n",
       "      <td>3.815695e+08</td>\n",
       "    </tr>\n",
       "    <tr>\n",
       "      <th>Paddy</th>\n",
       "      <td>1.931804e+07</td>\n",
       "    </tr>\n",
       "  </tbody>\n",
       "</table>\n",
       "</div>"
      ],
      "text/plain": [
       "         Production\n",
       "Crop               \n",
       "Rice   3.815695e+08\n",
       "Paddy  1.931804e+07"
      ]
     },
     "execution_count": 52,
     "metadata": {},
     "output_type": "execute_result"
    }
   ],
   "source": [
    "wi=df[df[\"Season\"]==\"Winter     \"]\n",
    "wi.groupby(\"Crop\")[\"Production\"].sum().sort_values(ascending=False).head(2).to_frame()\n"
   ]
  },
  {
   "cell_type": "code",
   "execution_count": 53,
   "id": "72d657e0",
   "metadata": {
    "execution": {
     "iopub.execute_input": "2023-02-10T11:14:23.619129Z",
     "iopub.status.busy": "2023-02-10T11:14:23.618725Z",
     "iopub.status.idle": "2023-02-10T11:14:23.708434Z",
     "shell.execute_reply": "2023-02-10T11:14:23.706726Z"
    },
    "papermill": {
     "duration": 0.119878,
     "end_time": "2023-02-10T11:14:23.710861",
     "exception": false,
     "start_time": "2023-02-10T11:14:23.590983",
     "status": "completed"
    },
    "tags": []
   },
   "outputs": [
    {
     "data": {
      "text/html": [
       "<div>\n",
       "<style scoped>\n",
       "    .dataframe tbody tr th:only-of-type {\n",
       "        vertical-align: middle;\n",
       "    }\n",
       "\n",
       "    .dataframe tbody tr th {\n",
       "        vertical-align: top;\n",
       "    }\n",
       "\n",
       "    .dataframe thead th {\n",
       "        text-align: right;\n",
       "    }\n",
       "</style>\n",
       "<table border=\"1\" class=\"dataframe\">\n",
       "  <thead>\n",
       "    <tr style=\"text-align: right;\">\n",
       "      <th></th>\n",
       "      <th></th>\n",
       "      <th>Production</th>\n",
       "    </tr>\n",
       "    <tr>\n",
       "      <th>District_Name</th>\n",
       "      <th>Crop</th>\n",
       "      <th></th>\n",
       "    </tr>\n",
       "  </thead>\n",
       "  <tbody>\n",
       "    <tr>\n",
       "      <th>KOZHIKODE</th>\n",
       "      <th>Coconut</th>\n",
       "      <td>1.527871e+10</td>\n",
       "    </tr>\n",
       "    <tr>\n",
       "      <th>MALAPPURAM</th>\n",
       "      <th>Coconut</th>\n",
       "      <td>1.451252e+10</td>\n",
       "    </tr>\n",
       "    <tr>\n",
       "      <th>THIRUVANANTHAPURAM</th>\n",
       "      <th>Coconut</th>\n",
       "      <td>1.001337e+10</td>\n",
       "    </tr>\n",
       "  </tbody>\n",
       "</table>\n",
       "</div>"
      ],
      "text/plain": [
       "                               Production\n",
       "District_Name      Crop                  \n",
       "KOZHIKODE          Coconut   1.527871e+10\n",
       "MALAPPURAM         Coconut   1.451252e+10\n",
       "THIRUVANANTHAPURAM Coconut   1.001337e+10"
      ]
     },
     "execution_count": 53,
     "metadata": {},
     "output_type": "execute_result"
    }
   ],
   "source": [
    "df.groupby([\"District_Name\",\"Crop\"])[\"Production\"].sum().sort_values(ascending=False).head(3).to_frame()"
   ]
  },
  {
   "cell_type": "markdown",
   "id": "bf485188",
   "metadata": {
    "papermill": {
     "duration": 0.031957,
     "end_time": "2023-02-10T11:14:23.778045",
     "exception": false,
     "start_time": "2023-02-10T11:14:23.746088",
     "status": "completed"
    },
    "tags": []
   },
   "source": [
    "# Insights \n",
    "\n",
    "* Uttar Pradesh has the most crops produced\n",
    "* Rice is Produced in most of the states.\n",
    "* In 2011 the production was the highest in which Coconut is highly produced and mango is the least produced\n",
    "* Kharif is the most occuring season in which Sugarcane and rice has the highest production.\n",
    "* In Whole Year Coconut and sugarcare has the highest production\n",
    "* In Summer and Autumn season Rice and maize has the highest production \n",
    "* In Rabi Season Wheat and Potato has the highest Production \n",
    "* In Winter season Rice and Paddy has the highest production\n",
    "* Coconut, Sugarcane and Rice has the highest production \n",
    "* Kerela has the highest production of crops where as mizoram and chandigarh has the lowest production state of the crops \n",
    "* KOZHIKODE,MALAPPURAM and THIRUVANANTHAPURAM District hast the highest production among other Districts, and the crop they produced is Coconut\n",
    "* Rice, Wheat and Cotton has the maximum Area for production\n",
    "* West Bengal has the highest area for production and chandigarh has lowest area for production"
   ]
  },
  {
   "cell_type": "code",
   "execution_count": 54,
   "id": "fcd1e8f9",
   "metadata": {
    "execution": {
     "iopub.execute_input": "2023-02-10T11:14:23.830121Z",
     "iopub.status.busy": "2023-02-10T11:14:23.829730Z",
     "iopub.status.idle": "2023-02-10T11:14:24.748701Z",
     "shell.execute_reply": "2023-02-10T11:14:24.747751Z"
    },
    "papermill": {
     "duration": 0.948068,
     "end_time": "2023-02-10T11:14:24.751376",
     "exception": false,
     "start_time": "2023-02-10T11:14:23.803308",
     "status": "completed"
    },
    "tags": []
   },
   "outputs": [],
   "source": [
    "df.to_csv(\"IndianCrop\")"
   ]
  }
 ],
 "metadata": {
  "kernelspec": {
   "display_name": "Python 3 (ipykernel)",
   "language": "python",
   "name": "python3"
  },
  "language_info": {
   "codemirror_mode": {
    "name": "ipython",
    "version": 3
   },
   "file_extension": ".py",
   "mimetype": "text/x-python",
   "name": "python",
   "nbconvert_exporter": "python",
   "pygments_lexer": "ipython3",
   "version": "3.9.13"
  },
  "papermill": {
   "default_parameters": {},
   "duration": 69.075791,
   "end_time": "2023-02-10T11:14:25.548916",
   "environment_variables": {},
   "exception": null,
   "input_path": "__notebook__.ipynb",
   "output_path": "__notebook__.ipynb",
   "parameters": {},
   "start_time": "2023-02-10T11:13:16.473125",
   "version": "2.3.4"
  }
 },
 "nbformat": 4,
 "nbformat_minor": 5
}
